{
 "cells": [
  {
   "cell_type": "code",
   "execution_count": 1,
   "id": "initial_id",
   "metadata": {
    "ExecuteTime": {
     "end_time": "2024-04-08T08:05:45.531768Z",
     "start_time": "2024-04-08T08:05:37.644012Z"
    }
   },
   "outputs": [],
   "source": [
    "import numpy as np\n",
    "import matplotlib.pyplot as plt\n",
    "import matplotlib.image as mpimg"
   ]
  },
  {
   "cell_type": "markdown",
   "id": "d736f64d",
   "metadata": {},
   "source": [
    "We've been covering convolutional neural networks alot these past few weeks and today I want to build the actual convolution operation from the ground up (we will skip some details and I will leave these with you to implement and experiment with). Our goal today will be to implement the simple filtering which takes place when we apply a convolution, using numpy.\n",
    "\n",
    "For all that have attended our sessions this year I want to give you some words which I hope stick with you. Tasks like this can sometimes seem pointless in the face of all the abstractions available to us and especially with all the hype in the space right now it's easy to pass up on performing such tasks. However, it is exactly these tasks that will set you apart from the others and better still these projects provide mechanisms for you to go deep and not just use the technology available but to actually understand it through building it from the ground up. This is special, the fact that the field of deep learning allows us to do this is special, the vast amount of papers available on https://arxiv.org (and other publications) with the open source repositories allows us to explore how all of this technology is built.\n",
    "\n",
    "Anyways, my philosophical rant aside lets get going on implementing the simple nxn filter (we will use one of the ImageWoof pics as an example)!"
   ]
  },
  {
   "cell_type": "code",
   "execution_count": 4,
   "id": "e405bde7",
   "metadata": {},
   "outputs": [
    {
     "name": "stderr",
     "output_type": "stream",
     "text": [
      "Error: no \"view\" rule for type \"image/png\" passed its test case\n",
      "       (for more information, add \"--debug=1\" on the command line)\n",
      "/usr/bin/xdg-open: 882: www-browser: not found\n",
      "/usr/bin/xdg-open: 882: links2: not found\n",
      "/usr/bin/xdg-open: 882: elinks: not found\n",
      "/usr/bin/xdg-open: 882: links: not found\n",
      "/usr/bin/xdg-open: 882: lynx: not found\n",
      "/usr/bin/xdg-open: 882: w3m: not found\n",
      "xdg-open: no method available for opening '/tmp/tmpyeosdnut.PNG'\n"
     ]
    }
   ],
   "source": [
    "from PIL import Image\n",
    "image = Image.open(\"image_example.JPEG\")\n",
    "image.show()"
   ]
  },
  {
   "cell_type": "code",
   "execution_count": null,
   "id": "c6291b60",
   "metadata": {},
   "outputs": [],
   "source": []
  }
 ],
 "metadata": {
  "kernelspec": {
   "display_name": "gpu_use",
   "language": "python",
   "name": "gpu_use"
  },
  "language_info": {
   "codemirror_mode": {
    "name": "ipython",
    "version": 3
   },
   "file_extension": ".py",
   "mimetype": "text/x-python",
   "name": "python",
   "nbconvert_exporter": "python",
   "pygments_lexer": "ipython3",
   "version": "3.11.7"
  }
 },
 "nbformat": 4,
 "nbformat_minor": 5
}
