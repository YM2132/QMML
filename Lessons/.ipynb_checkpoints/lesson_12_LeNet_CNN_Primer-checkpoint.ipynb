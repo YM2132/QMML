{
 "cells": [
  {
   "cell_type": "markdown",
   "id": "9e686d0885a83ab9",
   "metadata": {},
   "source": [
    "Before we continue where we left off last week (fine tuning a pre-existing model) I want to give some background on image tasks in deep learning. \n",
    "\n",
    "Last weeks model was of a different type but today we will be looking at a fundamental deep learning model which is used in a hand written \n",
    "character recognition. You may have heard of the MNIST data set and this is what we will train our model on.\n",
    "\n",
    "# So what is a Convolutional Neural Network (CNN)?\n",
    "They are a type of neural network which are useful for processing grid like data. They do so by making use of the Convolution operation.\n",
    "My way of thinking of the convolution is as reducing noise in the input (in an image we reduce noise and focus on what matters). \n",
    "\n",
    "## CNNs have three special properties\n",
    "- Sparse connectivity\n",
    "- Parameter sharing\n",
    "- Equivariant representations\n",
    "\n",
    "A CNN differs from a standard NN by way of this convolution, a typical NN has fully connected layers which use a matrix multiplication which \n",
    "means each input is connected to the output in the next layer along with a seperate parametet (WX + b). Essentially this means that every \n",
    "input unit interacts with the output units. However CNNs have sparse connectivity, this is accomplished by the kernel smaller than the \n",
    "input. For example, when processing an image it may have millions of pixels, but we can identify small meaningful features such as edges in \n",
    "small regions of thousands of pixels. This increases efficiency too, we store fewer parameters and computationally we have less operations to\n",
    "perform. \n",
    "\n",
    "Explain the two key topics - Convolution + Pooling\n",
    "\n",
    "[Further reading on Convolutional Neural Nets](https://www.deeplearningbook.org/contents/convnets.html)"
   ]
  },
  {
   "cell_type": "code",
   "execution_count": null,
   "id": "a8931e4390c1075c",
   "metadata": {
    "ExecuteTime": {
     "end_time": "2024-02-05T10:20:02.555714Z",
     "start_time": "2024-02-05T10:20:02.548199Z"
    }
   },
   "outputs": [],
   "source": []
  },
  {
   "cell_type": "code",
   "execution_count": null,
   "id": "b71cdaa12b17c201",
   "metadata": {},
   "outputs": [],
   "source": []
  }
 ],
 "metadata": {
  "kernelspec": {
   "display_name": "Python 3 (ipykernel)",
   "language": "python",
   "name": "python3"
  },
  "language_info": {
   "codemirror_mode": {
    "name": "ipython",
    "version": 3
   },
   "file_extension": ".py",
   "mimetype": "text/x-python",
   "name": "python",
   "nbconvert_exporter": "python",
   "pygments_lexer": "ipython3",
   "version": "3.11.5"
  }
 },
 "nbformat": 4,
 "nbformat_minor": 5
}
