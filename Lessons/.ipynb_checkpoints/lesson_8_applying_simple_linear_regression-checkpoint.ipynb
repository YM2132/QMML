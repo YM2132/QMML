{
 "cells": [
  {
   "cell_type": "code",
   "execution_count": 50,
   "id": "eea909a3",
   "metadata": {},
   "outputs": [],
   "source": [
    "import numpy as np\n",
    "import matplotlib.pyplot as plt\n",
    "from IPython.display import clear_output\n",
    "import pandas as pd"
   ]
  },
  {
   "cell_type": "markdown",
   "id": "1c6d5dac",
   "metadata": {},
   "source": [
    "<h1> Simple Linear Regression </h1>\n",
    "\n",
    "Linear approach to modelling the relationship between a response variable and one or more explanatory variables.\n",
    "\n",
    "In Simple Linear Regression we have one explanatory variable (e.g. using height to predict weight).\n",
    "\n",
    "Our aim is to find a linear function which predicts the response variable as a function of the explanatory variables.\n",
    "\n",
    "To do so we make use of something called the ordinary least squares method (OLS). Essentially the accuracy of each prediction is measures by its squared residual (residual being the vertical distance between the fitted line and the true data point). With our goal to be minimising the sum of the squared residuals (SSR).\n",
    "\n",
    "Function for a linear regression model:\n",
    "\n",
    "$$ y=\\alpha +\\beta x $$\n",
    "\n",
    "However, we have errors in this as the general relationship may not hold exaclty for the entire population of values of x (explanatory) and y (response). Essentially we cannot model any random process perfectly so we must account for this in our model. So we use the function:\n",
    "\n",
    "$$  y_i = \\alpha + \\beta x_i + \\varepsilon_i $$\n",
    "\n",
    "This is a linear regression model.\n",
    "\n",
    "The crux of this problem is given n data pairs (x_i, y_i) how can we estimate alpha and beta and this is where the error term comes in, the formula for the error term of any data pair is:\n",
    "\n",
    "$$ {\\displaystyle {\\widehat {\\varepsilon }}_{i}=y_{i}-\\alpha -\\beta x_{i}.} $$ \n",
    "\n",
    "(hat means an estimation)\n",
    "\n",
    "Therefore the sum of squared residuals and our problem end up being:\n",
    "\n",
    "$$ {\\displaystyle {\\text{Find }}\\min _{\\alpha ,\\,\\beta }Q(\\alpha ,\\beta),\\quad{\\text{for }}Q(\\alpha ,\\beta )=\\sum _{i=1}^{n}{\\widehat {\\varepsilon }}_{i}^{\\,2}=\\sum _{i=1}^{n}(y_{i}-\\alpha -\\beta x_{i})^{2}\\ .}$$\n",
    "\n",
    "<h3>There are 2 ways to get an estimate of alpha and beta. The first is with an analytical approach and the second in with an iterative approach. We go over the analytic approach first</h3>\n",
    "\n",
    "With some rearranging we get:\n",
    "\n",
    "$${\\textstyle {\\begin{aligned}{\\widehat {\\alpha }}&={\\bar {y}}-({\\widehat {\\beta }}\\,{\\bar {x}}),\\\\[5pt]{\\widehat {\\beta }}&={\\frac {\\sum _{i=1}^{n}(x_{i}-{\\bar {x}})(y_{i}-{\\bar {y}})}{\\sum _{i=1}^{n}(x_{i}-{\\bar {x}})^{2}}}\\\\[6pt]\\end{aligned}}}$$"
   ]
  },
  {
   "cell_type": "markdown",
   "id": "9627c770",
   "metadata": {},
   "source": [
    "<h3><b>Lets look at how we can derive the formulas for alpha and beta!!!</b></h3>\n",
    "<p> To solve: </p>    \n",
    "$$ {\\displaystyle {\\text{Find }}\\min _{\\alpha ,\\,\\beta }Q(\\alpha ,\\beta ),\\quad {\\text{for }}Q(\\alpha ,\\beta )=\\sum _{i=1}^{n}{\\widehat {\\varepsilon }}_{i}^{\\,2}=\\sum _{i=1}^{n}(y_{i}-\\alpha -\\beta x_{i})^{2}\\ .}$$\n",
    "\n",
    "We must take the partial derivatives w.r.t to alpha and beta of the function for the error and set them to 0.\n",
    "\n",
    "$$ E = \\sum_{i=0}^{n} (y_{i} - \\alpha - \\beta x_{i})^2 \\tag{1} $$\n",
    "\n",
    "<b><u> For alpha </b></u>\n",
    "\n",
    "Using the chain rule we get:\n",
    "\n",
    "$$ \\frac{\\partial E}{\\partial \\alpha}=\\sum_{i=1}^{n}-2\\left(y_{i}-\\alpha-\\beta x_{i}\\right)=0 \\tag{2} $$\n",
    "\n",
    "We can divide both sides by 2 to give us:\n",
    "\n",
    "$$ \\frac{\\partial E}{\\partial \\alpha}=\\sum_{i=1}^{n} \\left(y_{i}-\\alpha-\\beta x_{i}\\right)=0 \\tag{3} $$\n",
    "\n",
    "Expanding the bracket we get:\n",
    "\n",
    "$$ \\sum_{i=1}^{n} y_{i} - \\sum_{i=1}^{n} \\alpha - \\sum_{i=1}^{n}\\beta x_{i} = 0 \\tag{4}$$\n",
    "\n",
    "Remeber that:\n",
    "\n",
    "$$ \\sum_{i=1}^{n} y_{i} = N{\\bar {y}} \\hspace{5mm} and \\hspace{5mm} \\sum_{i=1}^{n} x_{i} = N{\\bar {x}} \\tag{5}$$\n",
    "\n",
    "Also a sum over a constant is equal to nc (where c is the constant)\n",
    "\n",
    "$$ \\sum_{i=1}^{n} c = Nc \\tag{6} $$\n",
    "\n",
    "Then using equations $ (5) $ and $ (6) $ we get:\n",
    "\n",
    "$$ n \\alpha=n \\bar{y}-n \\beta \\bar{x} \\tag{7}$$\n",
    "\n",
    "Dividing through by n will give us:\n",
    "\n",
    "$$ \\alpha=\\bar{y}-\\beta \\bar{x} \\tag{8} $$ "
   ]
  },
  {
   "cell_type": "markdown",
   "id": "97bc0ae4",
   "metadata": {},
   "source": [
    "<u><b>For beta</b></u>\n",
    "\n",
    "Starting from Equation 1 and taking the partial derivative w.r.t beta we get:\n",
    "\n",
    "$$ \\frac{\\partial E}{\\partial \\alpha}=\\sum_{i=1}^{n}-2x_{i}\\left(y_{i}-\\alpha-\\beta x_{i}\\right)=0 \\tag{9} $$\n",
    "\n",
    "Once again as we can divide by -2 to get:\n",
    "\n",
    "$$ \\frac{\\partial E}{\\partial \\alpha}=\\sum_{i=1}^{n}x_{i}\\left(y_{i}-\\alpha-\\beta x_{i}\\right)=0 \\tag{10} $$\n",
    "\n",
    "Lets expand equation 10 to give:\n",
    "\n",
    "$$ \\sum_{i=1}^{n} (x_{i} y_{i}-\\alpha x_{i}-\\beta x_{i}^{2})=0 \\tag{11}$$\n",
    "\n",
    "We can substitue in the value for $\\alpha$ from equation 8 to get:\n",
    "\n",
    "$$ \\sum_{i=1}^{n} (x_{i} y_{i}-x_{i}(\\bar{y}-\\beta \\bar{x})-\\beta x_{i}^{2})=0 \\tag{12}$$\n",
    "\n",
    "Expanding this gives:\n",
    "\n",
    "$$ \\sum_{i=1}^{n} (x_{i}y_{i} - x_{i}\\bar{y} + \\beta x_{i}\\bar{x} - \\beta x_{i}^2) = 0 \\tag{13}$$\n",
    "\n",
    "We can then split it to:\n",
    "\n",
    "$$ \\sum_{i=1}^{n} (x_{i}y_{i} - x_{i}\\bar{x}) + \\beta \\sum_{i=1}^{n} (x_{i}\\bar{x} - \\beta x_{i}^2) = 0 \\tag{14} $$\n",
    "\n",
    "Expanding this out now we can simplify as follows:\n",
    "\n",
    "$$  \\sum_{i=1}^{n} x_{i}y_{i} - \\bar{y} \\sum_{i=1}^{n} x_{i} + \\beta\\bar{x} \\sum_{i=1}^{n} x_{i} - \\beta \\sum_{i=1}^{n} x_{i}^2 = 0 \\tag{15}$$\n",
    "\n",
    "Using the equations $ (5) $ and $ (6) $ we can simplify further to give:\n",
    "\n",
    "$$ \\sum_{i=1}^{n} x_{i}y_{i} - n\\bar{x}\\bar{y} = -\\beta n \\bar{x}^2 + \\beta \\sum_{i=1}^{n} x_{i}^2 \\tag{16}$$\n",
    "\n",
    "And solving for $\\beta$ gives:\n",
    "\n",
    "$$ \\beta = \\frac{\\sum_{i=1}^{n} x_{i}y_{i} - n\\bar{x}\\bar{y}} {\\sum_{i=1}^{n} x_{i}^2 - n\\bar{x}^2\n",
    "} \\tag{17}$$\n",
    "\n",
    "We can simplify this to get the form of beta we had above:\n",
    "\n",
    "We know that: $ \\hspace{5mm} \\sum_{i=1}^{n}(x_{i} - \\bar{x}) (y_{i} - \\bar{y}) \\hspace{2.5mm} = \\hspace{2.5mm} \\sum_{i=1}^{n} x_{i}y_{i} - n\\bar{x}\\bar{y} \\tag{18}$\n",
    "\n",
    "I leave this to you to derive, I'd suggest starting from the Left hand side\n",
    "\n",
    "Similarily: $ \\hspace{5mm} \\sum _{i=1}^{n}(x_{i}-{\\bar {x}})^{2} \\hspace{2.5mm} = \\hspace{2.5mm} \\sum_{i=1}^{n} x_{i}^2 - n\\bar{x}^2 \\tag{19}$"
   ]
  },
  {
   "cell_type": "code",
   "execution_count": 142,
   "id": "f30c1bcf",
   "metadata": {},
   "outputs": [
    {
     "data": {
      "image/png": "[encoded data removed]",
      "text/plain": [
       "<Figure size 864x432 with 1 Axes>"
      ]
     },
     "metadata": {
      "needs_background": "light"
     },
     "output_type": "display_data"
    }
   ],
   "source": [
    "# An example to explain betahat and its constituants\n",
    "import numpy as np\n",
    "import matplotlib.pyplot as plt\n",
    "\n",
    "# Create a simple dataset\n",
    "np.random.seed(0)\n",
    "x = np.random.rand(100) * 10  # Scale x values\n",
    "y = 2.5 * x + np.random.randn(100) * 5  # Linear relationship with some noise\n",
    "\n",
    "# Scenario 1: With proper normalization (actual linear regression)\n",
    "beta = np.sum((x - np.mean(x)) * (y - np.mean(y))) / np.sum((x - np.mean(x)) ** 2)\n",
    "alpha = np.mean(y) - beta * np.mean(x)\n",
    "y_pred_1 = alpha + beta * x\n",
    "\n",
    "# Scenario 2: Without normalization (ignoring variance of x)\n",
    "beta_no_var = np.sum(x * y) / np.sum(x)\n",
    "y_pred_2 = beta_no_var * x\n",
    "\n",
    "# Plotting\n",
    "plt.figure(figsize=(12, 6))\n",
    "plt.scatter(x, y, color='blue', label='Data Points')\n",
    "plt.plot(x, y_pred_1, color='red', label='With Normalization')\n",
    "plt.plot(x, y_pred_2, color='green', label='Without Normalization')\n",
    "plt.xlabel('X')\n",
    "plt.ylabel('Y')\n",
    "plt.title('Comparison of Regression Lines With and Without Normalization')\n",
    "plt.legend()\n",
    "plt.show()\n"
   ]
  },
  {
   "cell_type": "code",
   "execution_count": 52,
   "id": "b5286d7b",
   "metadata": {},
   "outputs": [],
   "source": [
    "#Calculating alphahat and betahat using the analytical approach\n",
    "x = np.array([1.47,1.50, 1.52, 1.55, 1.57, 1.60, 1.63, 1.65,\n",
    "             1.68, 1.70, 1.73, 1.75, 1.78, 1.80, 1.83])\n",
    "y = np.array([52.21, 53.12, 54.48, 55.84, 57.20, 58.57, 59.93, 61.29,\n",
    "              63.11, 64.47, 66.28, 68.10, 69.92, 72.19, 74.46])"
   ]
  },
  {
   "cell_type": "markdown",
   "id": "404c4f91",
   "metadata": {},
   "source": [
    "We need to solve the following equations to estimate beta and alpha hat\n",
    "\n",
    "$${\\textstyle {\\begin{aligned}{\\widehat {\\alpha }}&={\\bar {y}}-({\\widehat {\\beta }}\\,{\\bar {x}}),\\\\[5pt]{\\widehat {\\beta }}&={\\frac {\\sum _{i=1}^{n}(x_{i}-{\\bar {x}})(y_{i}-{\\bar {y}})}{\\sum _{i=1}^{n}(x_{i}-{\\bar {x}})^{2}}}\\\\[6pt]\\end{aligned}}}$$"
   ]
  },
  {
   "cell_type": "code",
   "execution_count": 53,
   "id": "cb6923b9",
   "metadata": {},
   "outputs": [
    {
     "data": {
      "text/plain": [
       "7.490558403882604"
      ]
     },
     "execution_count": 53,
     "metadata": {},
     "output_type": "execute_result"
    }
   ],
   "source": [
    "xbar = x.mean()\n",
    "ybar = y.mean()\n",
    "\n",
    "# beta hat\n",
    "sum_numerator = 0\n",
    "sum_denominator = 0\n",
    "\n",
    "for xi, yi in zip(x, y):\n",
    "    sum_numerator += (xi - xbar) * (yi - ybar)\n",
    "    sum_denominator += (xi - xbar) ** 2\n",
    "\n",
    "betahat = sum_numerator / sum_denominator\n",
    "\n",
    "# alpha hat\n",
    "alphahat = ybar - (betahat*xbar)\n",
    "\n",
    "SSR = sum((y - (alphahat + betahat*x))**2)\n",
    "SSR"
   ]
  },
  {
   "cell_type": "code",
   "execution_count": 54,
   "id": "cf835d14",
   "metadata": {},
   "outputs": [
    {
     "data": {
      "text/plain": [
       "(-39.06195591884392, 61.272186542110624)"
      ]
     },
     "execution_count": 54,
     "metadata": {},
     "output_type": "execute_result"
    }
   ],
   "source": [
    "alphahat, betahat"
   ]
  },
  {
   "cell_type": "code",
   "execution_count": 55,
   "id": "6ae242e1",
   "metadata": {},
   "outputs": [
    {
     "data": {
      "text/plain": [
       "(array([1.8, 1.6, 1.5]), array([71.22797986, 58.97354255, 52.84632389]))"
      ]
     },
     "execution_count": 55,
     "metadata": {},
     "output_type": "execute_result"
    }
   ],
   "source": [
    "# A simple example of how we could use the alphahat and betahat\n",
    "# Bear in mind this is not purely accurate to model new data with a model it must be organised in the same way\n",
    "# as the training data. Meaning it must have the same distribution\n",
    "def pred(xs, alphahat, betahat):\n",
    "    y_preds = alphahat + betahat * xs\n",
    "    \n",
    "    return y_preds\n",
    "\n",
    "# Demo what the consqeuence of unseen data is\n",
    "# new_heights = np.array([1.8, 1.6, 1.5, 2, 1.3])\n",
    "new_heights = np.array([1.8, 1.6, 1.5])\n",
    "y_preds = pred(new_heights, alphahat, betahat)\n",
    "\n",
    "new_heights, y_preds"
   ]
  },
  {
   "cell_type": "code",
   "execution_count": 56,
   "id": "213d105a",
   "metadata": {},
   "outputs": [
    {
     "data": {
      "image/png": "[encoded data removed]",
      "text/plain": [
       "<Figure size 432x288 with 1 Axes>"
      ]
     },
     "metadata": {
      "needs_background": "light"
     },
     "output_type": "display_data"
    }
   ],
   "source": [
    "# Create a scatter plot of the data points\n",
    "plt.scatter(x, y, color='blue', label='Data Points')\n",
    "\n",
    "# Generate values for the regression line\n",
    "x_values = np.linspace(min(x), max(x), 100)\n",
    "y_values = betahat * x_values + alphahat\n",
    "\n",
    "# Plot the regression line\n",
    "plt.plot(x_values, y_values, color='red', label='Regression Line')\n",
    "\n",
    "# Add the predicted points\n",
    "plt.scatter(new_heights, y_preds, color='green', label='Predicted Weights', marker='x')\n",
    "\n",
    "# Label the axes and add a title\n",
    "plt.xlabel('Height (meters)')\n",
    "plt.ylabel('Weight (kilograms)')\n",
    "plt.title('Simple Linear Regression: Height vs Weight')\n",
    "\n",
    "# Add a legend\n",
    "plt.legend()\n",
    "\n",
    "# Show the plot\n",
    "plt.show()"
   ]
  },
  {
   "cell_type": "markdown",
   "id": "d17a4012",
   "metadata": {},
   "source": [
    "Above we described the analytical approach to estimate alphahat and betahat, now we cover the second approach the iterative approach.\n",
    "\n",
    "In this approach we use gradient descent to get the values of alphahat and betahat which minimise the SSR. To do so we must first calculate the partial derivatives for SSR w.r.t alpha and beta. Doing this we get the equations:\n",
    "\n",
    "$$\\frac{\\partial \\text{SSR}}{\\partial \\alpha} = -2 \\sum_{i=1}^{n} (y_i - (\\beta x_i + \\alpha))$$\n",
    "\n",
    "$$ \\frac{\\partial \\text{SSR}}{\\partial \\beta} = -2 \\sum_{i=1}^{n} x_i (y_i - (\\beta x_i + \\alpha)) $$\n",
    "\n",
    "Using these we can iteratively update the alphahat and betahat for n iterations.\n",
    "\n",
    "To implement this we must have a loop for n iterations and perform gradient descent on each variable alphahat and betahat. This means we must minimise the value of SSR, to do so we calculate the value of both derivatives given each partial derivative and then we bump the value of alphahat and betahat in the opposite direction."
   ]
  },
  {
   "cell_type": "code",
   "execution_count": 57,
   "id": "1ade4403",
   "metadata": {},
   "outputs": [
    {
     "name": "stdout",
     "output_type": "stream",
     "text": [
      "2.3324447370535474e-08\n"
     ]
    }
   ],
   "source": [
    "# The iterative approach using gradient descent\n",
    "\n",
    "alphahat = 0\n",
    "betahat = 0\n",
    "\n",
    "iterations = 10000\n",
    "learning_rate = 0.01\n",
    "\n",
    "for i in range(iterations):\n",
    "    y_preds = alphahat + betahat * x\n",
    "    \n",
    "    # Because we are using numpy arrays the y - y_preds will operate element wise we could use for loops to \n",
    "    # do the same thing here\n",
    "    d_alpha = -2 * sum(y - y_preds)\n",
    "    d_beta = -2 * sum(x * (y - y_preds))\n",
    "    \n",
    "    #update alpha and beta\n",
    "    alphahat -= learning_rate * d_alpha\n",
    "    betahat -=learning_rate * d_beta\n",
    "\n",
    "print(sum(y - y_preds)**2)"
   ]
  },
  {
   "cell_type": "code",
   "execution_count": 58,
   "id": "ab087a14",
   "metadata": {},
   "outputs": [
    {
     "data": {
      "text/plain": [
       "(-39.058837836198585, 61.270303720393855)"
      ]
     },
     "execution_count": 58,
     "metadata": {},
     "output_type": "execute_result"
    }
   ],
   "source": [
    "alphahat, betahat"
   ]
  },
  {
   "cell_type": "code",
   "execution_count": 59,
   "id": "e0f10713",
   "metadata": {},
   "outputs": [
    {
     "data": {
      "image/png": "[encoded data removed]",
      "text/plain": [
       "<Figure size 432x288 with 1 Axes>"
      ]
     },
     "metadata": {
      "needs_background": "light"
     },
     "output_type": "display_data"
    }
   ],
   "source": [
    "# Code to show the gradient descent in action\n",
    "def plot_gradual_updates(x, y, learning_rate=0.1, iterations=[10, 100, 1000, 5000, 10000], pause_duration=1):\n",
    "    n = len(y)\n",
    "    alphahat, betahat = 0, 0  # Initialize alpha and beta\n",
    "\n",
    "    plt.figure(figsize=(12, 8))\n",
    "\n",
    "    max_iter = max(iterations)\n",
    "    iteration_steps = set(iterations)\n",
    "\n",
    "    for iteration in range(max_iter + 1):\n",
    "        y_pred = alphahat + betahat * x\n",
    "\n",
    "        # Calculate gradients\n",
    "        d_alpha = (-2/n) * sum(y - y_pred)\n",
    "        d_beta = (-2/n) * sum(x * (y - y_pred))\n",
    "\n",
    "        # Update alpha and beta\n",
    "        alphahat -= learning_rate * d_alpha\n",
    "        betahat -= learning_rate * d_beta\n",
    "\n",
    "        if iteration in iteration_steps:\n",
    "            # Clear the previous plot and plot the new line and data points\n",
    "            clear_output(wait=True)\n",
    "            plt.scatter(x, y, color='blue', label='Data points' if iteration == 0 else \"\")\n",
    "            plt.plot(x, y_pred, color='red', label=f'Iteration {iteration}')\n",
    "            plt.xlabel('height')\n",
    "            plt.ylabel('weight')\n",
    "            plt.title('Gradual Updates in Gradient Descent')\n",
    "            plt.legend()\n",
    "            plt.show()\n",
    "            plt.pause(pause_duration)\n",
    "\n",
    "# Call the function for gradual updates\n",
    "plot_gradual_updates(x, y, pause_duration=2)\n"
   ]
  },
  {
   "cell_type": "code",
   "execution_count": 141,
   "id": "afc58643",
   "metadata": {},
   "outputs": [
    {
     "data": {
      "text/html": [
       "<div>\n",
       "<style scoped>\n",
       "    .dataframe tbody tr th:only-of-type {\n",
       "        vertical-align: middle;\n",
       "    }\n",
       "\n",
       "    .dataframe tbody tr th {\n",
       "        vertical-align: top;\n",
       "    }\n",
       "\n",
       "    .dataframe thead th {\n",
       "        text-align: right;\n",
       "    }\n",
       "</style>\n",
       "<table border=\"1\" class=\"dataframe\">\n",
       "  <thead>\n",
       "    <tr style=\"text-align: right;\">\n",
       "      <th></th>\n",
       "      <th>YearsExperience</th>\n",
       "      <th>Salary</th>\n",
       "    </tr>\n",
       "  </thead>\n",
       "  <tbody>\n",
       "    <tr>\n",
       "      <th>0</th>\n",
       "      <td>1.2</td>\n",
       "      <td>39344.0</td>\n",
       "    </tr>\n",
       "    <tr>\n",
       "      <th>1</th>\n",
       "      <td>1.4</td>\n",
       "      <td>46206.0</td>\n",
       "    </tr>\n",
       "    <tr>\n",
       "      <th>2</th>\n",
       "      <td>1.6</td>\n",
       "      <td>37732.0</td>\n",
       "    </tr>\n",
       "    <tr>\n",
       "      <th>3</th>\n",
       "      <td>2.1</td>\n",
       "      <td>43526.0</td>\n",
       "    </tr>\n",
       "    <tr>\n",
       "      <th>4</th>\n",
       "      <td>2.3</td>\n",
       "      <td>39892.0</td>\n",
       "    </tr>\n",
       "  </tbody>\n",
       "</table>\n",
       "</div>"
      ],
      "text/plain": [
       "   YearsExperience   Salary\n",
       "0              1.2  39344.0\n",
       "1              1.4  46206.0\n",
       "2              1.6  37732.0\n",
       "3              2.1  43526.0\n",
       "4              2.3  39892.0"
      ]
     },
     "execution_count": 141,
     "metadata": {},
     "output_type": "execute_result"
    }
   ],
   "source": [
    "# Continue using the height vs weight and demo on this at the end if time allows\n",
    "\n",
    "salary_data = pd.read_csv('../Karpathy_NN_course/Salary_dataset.csv')\n",
    "salary_data.drop('Unnamed: 0', axis=1, inplace=True)\n",
    "salary_data.head()"
   ]
  },
  {
   "cell_type": "code",
   "execution_count": 108,
   "id": "18b49563",
   "metadata": {},
   "outputs": [],
   "source": [
    "# function for analytical simple LR\n",
    "\n",
    "def analytic_approach_simple_LR(x, y):\n",
    "    xbar = x.mean()\n",
    "    ybar = y.mean()\n",
    "\n",
    "    # beta hat\n",
    "    sum_numerator = 0\n",
    "    sum_denominator = 0\n",
    "\n",
    "    for xi, yi in zip(x, y):\n",
    "        sum_numerator += (xi - xbar) * (yi - ybar)\n",
    "        sum_denominator += (xi-xbar) ** 2\n",
    "\n",
    "    betahat = sum_numerator / sum_denominator\n",
    "\n",
    "    # alpha hat\n",
    "    alphahat = ybar - (betahat*xbar)\n",
    "    \n",
    "    return alphahat, betahat\n",
    "\n",
    "def iterative_approach_simple_LR(x, y, iterations, lr):\n",
    "    # The iterative approach using gradient descent\n",
    "\n",
    "    alphahat = 0\n",
    "    betahat = 0\n",
    "    \n",
    "    n = len(x)\n",
    "\n",
    "    #iterations = 10000\n",
    "    learning_rate = lr\n",
    "\n",
    "    for i in range(iterations):\n",
    "        y_preds = alphahat + betahat * x\n",
    "\n",
    "        # Because we are using numpy arrays the y - y_preds will operate element wise we could use for loops to \n",
    "        # do the same thing here\n",
    "        d_alpha = -2/n * sum(y - y_preds)\n",
    "        d_beta = -2/n * sum(x * (y - y_preds))\n",
    "    \n",
    "        #update alpha and beta\n",
    "        alphahat -= learning_rate * d_alpha\n",
    "        betahat -=learning_rate * d_beta\n",
    "    \n",
    "    return alphahat, betahat"
   ]
  },
  {
   "cell_type": "code",
   "execution_count": 87,
   "id": "191bc958",
   "metadata": {},
   "outputs": [],
   "source": [
    "x = np.array(salary_data['YearsExperience'])\n",
    "y = np.array(salary_data['Salary'])\n",
    "\n",
    "analytical_alphahat, analytical_betahat = analytic_approach_simple_LR(x, y)\n",
    "\n",
    "iterative_alphahat, iterative_betahat = iterative_approach_simple_LR(x, y, 10000)"
   ]
  },
  {
   "cell_type": "code",
   "execution_count": 88,
   "id": "2ddcaa93",
   "metadata": {},
   "outputs": [
    {
     "data": {
      "text/plain": [
       "(24848.203966523193, 9449.962321455077)"
      ]
     },
     "execution_count": 88,
     "metadata": {},
     "output_type": "execute_result"
    }
   ],
   "source": [
    "analytical_alphahat, analytical_betahat"
   ]
  },
  {
   "cell_type": "code",
   "execution_count": 89,
   "id": "1121a15d",
   "metadata": {},
   "outputs": [
    {
     "data": {
      "text/plain": [
       "(24848.103291551266, 9449.977097229259)"
      ]
     },
     "execution_count": 89,
     "metadata": {},
     "output_type": "execute_result"
    }
   ],
   "source": [
    "iterative_alphahat, iterative_betahat"
   ]
  },
  {
   "cell_type": "code",
   "execution_count": 28,
   "id": "e4398413",
   "metadata": {},
   "outputs": [
    {
     "data": {
      "image/png": "[encoded data removed]",
      "text/plain": [
       "<Figure size 432x288 with 1 Axes>"
      ]
     },
     "metadata": {
      "needs_background": "light"
     },
     "output_type": "display_data"
    }
   ],
   "source": [
    "# Create a scatter plot of the data points\n",
    "plt.scatter(x, y, color='blue', label='Data Points')\n",
    "\n",
    "# Generate values for the regression line\n",
    "x_values = np.linspace(min(x), max(x), 100)\n",
    "y_values = analytical_betahat * x_values + analytical_alphahat\n",
    "\n",
    "# Plot the regression line\n",
    "plt.plot(x_values, y_values, color='red', label='Regression Line')\n",
    "\n",
    "# Label the axes and add a title\n",
    "plt.xlabel('Years of Experience')\n",
    "plt.ylabel('Salary in Dollars')\n",
    "plt.title('Simple Linear Regression: Height vs Weight')\n",
    "\n",
    "# Add a legend\n",
    "plt.legend()\n",
    "\n",
    "# Show the plot\n",
    "plt.show()"
   ]
  },
  {
   "cell_type": "code",
   "execution_count": 29,
   "id": "8a4e34b8",
   "metadata": {
    "scrolled": true
   },
   "outputs": [
    {
     "data": {
      "image/png": "[encoded data removed]",
      "text/plain": [
       "<Figure size 432x288 with 1 Axes>"
      ]
     },
     "metadata": {
      "needs_background": "light"
     },
     "output_type": "display_data"
    }
   ],
   "source": [
    "# Create a scatter plot of the data points\n",
    "plt.scatter(x, y, color='blue', label='Data Points')\n",
    "\n",
    "# Generate values for the regression line\n",
    "x_values = np.linspace(min(x), max(x), 100)\n",
    "y_values = iterative_betahat * x_values + iterative_alphahat\n",
    "\n",
    "# Plot the regression line\n",
    "plt.plot(x_values, y_values, color='red', label='Regression Line')\n",
    "\n",
    "# Label the axes and add a title\n",
    "plt.xlabel('Years of Experience')\n",
    "plt.ylabel('Salary in Dollars')\n",
    "plt.title('Simple Linear Regression: Height vs Weight')\n",
    "\n",
    "# Add a legend\n",
    "plt.legend()\n",
    "\n",
    "# Show the plot\n",
    "plt.show()"
   ]
  },
  {
   "cell_type": "markdown",
   "id": "e1895cb5",
   "metadata": {},
   "source": [
    "<h1> Lets apply this model to a kaggle competition </h1>\n",
    "\n",
    "Visit the link below and download the dataset\n",
    "https://www.kaggle.com/competitions/playground-series-s3e16/data?select=train.csv\n",
    "\n",
    "Steps to play with our model:\n",
    "    <li> Download the dataset </li>\n",
    "    <li> The dataset has many features (our simpler LR will work for one) so select one and filter for that column from the training data (if you want to be cool just run the simple linear regression for all columns :)</li>\n",
    "    <li> Generate the values for alhpa hat and beta hat using the training set </li>\n",
    "    <li> Generate the y_preds from the test set </li>\n",
    "    <li> Submit your predictions to Kaggle!!!</li>"
   ]
  },
  {
   "cell_type": "code",
   "execution_count": 30,
   "id": "de3b731b",
   "metadata": {},
   "outputs": [],
   "source": [
    "import pandas as pd"
   ]
  },
  {
   "cell_type": "code",
   "execution_count": 138,
   "id": "dfb7ea18",
   "metadata": {},
   "outputs": [],
   "source": [
    "train_df = pd.read_csv('./playground-series-s3e16/train.csv')\n",
    "train_df.head()\n",
    "\n",
    "x = train_df['Length']\n",
    "y = train_df['Age']"
   ]
  },
  {
   "cell_type": "code",
   "execution_count": 91,
   "id": "24e4f2ae",
   "metadata": {},
   "outputs": [
    {
     "data": {
      "text/html": [
       "<div>\n",
       "<style scoped>\n",
       "    .dataframe tbody tr th:only-of-type {\n",
       "        vertical-align: middle;\n",
       "    }\n",
       "\n",
       "    .dataframe tbody tr th {\n",
       "        vertical-align: top;\n",
       "    }\n",
       "\n",
       "    .dataframe thead th {\n",
       "        text-align: right;\n",
       "    }\n",
       "</style>\n",
       "<table border=\"1\" class=\"dataframe\">\n",
       "  <thead>\n",
       "    <tr style=\"text-align: right;\">\n",
       "      <th></th>\n",
       "      <th>id</th>\n",
       "      <th>Sex</th>\n",
       "      <th>Length</th>\n",
       "      <th>Diameter</th>\n",
       "      <th>Height</th>\n",
       "      <th>Weight</th>\n",
       "      <th>Shucked Weight</th>\n",
       "      <th>Viscera Weight</th>\n",
       "      <th>Shell Weight</th>\n",
       "      <th>Age</th>\n",
       "    </tr>\n",
       "  </thead>\n",
       "  <tbody>\n",
       "    <tr>\n",
       "      <th>0</th>\n",
       "      <td>0</td>\n",
       "      <td>I</td>\n",
       "      <td>1.5250</td>\n",
       "      <td>1.1750</td>\n",
       "      <td>0.3750</td>\n",
       "      <td>28.973189</td>\n",
       "      <td>12.728926</td>\n",
       "      <td>6.647958</td>\n",
       "      <td>8.348928</td>\n",
       "      <td>9</td>\n",
       "    </tr>\n",
       "    <tr>\n",
       "      <th>1</th>\n",
       "      <td>1</td>\n",
       "      <td>I</td>\n",
       "      <td>1.1000</td>\n",
       "      <td>0.8250</td>\n",
       "      <td>0.2750</td>\n",
       "      <td>10.418441</td>\n",
       "      <td>4.521745</td>\n",
       "      <td>2.324659</td>\n",
       "      <td>3.401940</td>\n",
       "      <td>8</td>\n",
       "    </tr>\n",
       "    <tr>\n",
       "      <th>2</th>\n",
       "      <td>2</td>\n",
       "      <td>M</td>\n",
       "      <td>1.3875</td>\n",
       "      <td>1.1125</td>\n",
       "      <td>0.3750</td>\n",
       "      <td>24.777463</td>\n",
       "      <td>11.339800</td>\n",
       "      <td>5.556502</td>\n",
       "      <td>6.662133</td>\n",
       "      <td>9</td>\n",
       "    </tr>\n",
       "    <tr>\n",
       "      <th>3</th>\n",
       "      <td>3</td>\n",
       "      <td>F</td>\n",
       "      <td>1.7000</td>\n",
       "      <td>1.4125</td>\n",
       "      <td>0.5000</td>\n",
       "      <td>50.660556</td>\n",
       "      <td>20.354941</td>\n",
       "      <td>10.991839</td>\n",
       "      <td>14.996885</td>\n",
       "      <td>11</td>\n",
       "    </tr>\n",
       "    <tr>\n",
       "      <th>4</th>\n",
       "      <td>4</td>\n",
       "      <td>I</td>\n",
       "      <td>1.2500</td>\n",
       "      <td>1.0125</td>\n",
       "      <td>0.3375</td>\n",
       "      <td>23.289114</td>\n",
       "      <td>11.977664</td>\n",
       "      <td>4.507570</td>\n",
       "      <td>5.953395</td>\n",
       "      <td>8</td>\n",
       "    </tr>\n",
       "  </tbody>\n",
       "</table>\n",
       "</div>"
      ],
      "text/plain": [
       "   id Sex  Length  Diameter  Height     Weight  Shucked Weight  \\\n",
       "0   0   I  1.5250    1.1750  0.3750  28.973189       12.728926   \n",
       "1   1   I  1.1000    0.8250  0.2750  10.418441        4.521745   \n",
       "2   2   M  1.3875    1.1125  0.3750  24.777463       11.339800   \n",
       "3   3   F  1.7000    1.4125  0.5000  50.660556       20.354941   \n",
       "4   4   I  1.2500    1.0125  0.3375  23.289114       11.977664   \n",
       "\n",
       "   Viscera Weight  Shell Weight  Age  \n",
       "0        6.647958      8.348928    9  \n",
       "1        2.324659      3.401940    8  \n",
       "2        5.556502      6.662133    9  \n",
       "3       10.991839     14.996885   11  \n",
       "4        4.507570      5.953395    8  "
      ]
     },
     "execution_count": 91,
     "metadata": {},
     "output_type": "execute_result"
    }
   ],
   "source": [
    "train_df.head()"
   ]
  },
  {
   "cell_type": "code",
   "execution_count": 115,
   "id": "7170d46d",
   "metadata": {},
   "outputs": [],
   "source": [
    "analytical_alphahat, analytical_betahat = analytic_approach_simple_LR(x, y)\n",
    "iterative_alphahat, iterative_betahat = iterative_approach_simple_LR(x, y, iterations=1000, lr=0.1)"
   ]
  },
  {
   "cell_type": "code",
   "execution_count": 116,
   "id": "55bf6d82",
   "metadata": {},
   "outputs": [
    {
     "name": "stdout",
     "output_type": "stream",
     "text": [
      "1.0587795407391578 6.762274724843948\n",
      "1.0653657161319525 6.757424008829627\n"
     ]
    }
   ],
   "source": [
    "print(analytical_alphahat, analytical_betahat)\n",
    "print(iterative_alphahat, iterative_betahat)"
   ]
  },
  {
   "cell_type": "code",
   "execution_count": 118,
   "id": "48034c18",
   "metadata": {},
   "outputs": [
    {
     "data": {
      "image/png": "[encoded data removed]",
      "text/plain": [
       "<Figure size 432x288 with 1 Axes>"
      ]
     },
     "metadata": {
      "needs_background": "light"
     },
     "output_type": "display_data"
    }
   ],
   "source": [
    "# Create a scatter plot of the data points\n",
    "plt.scatter(x, y, color='blue', label='Data Points')\n",
    "\n",
    "# Generate values for the regression line\n",
    "x_values = np.linspace(min(x), max(x), 100)\n",
    "y_values = iterative_betahat * x_values + iterative_alphahat\n",
    "\n",
    "# Plot the regression line\n",
    "plt.plot(x_values, y_values, color='red', label='Regression Line')\n",
    "\n",
    "# Label the axes and add a title\n",
    "plt.xlabel('Length')\n",
    "plt.ylabel('Age')\n",
    "plt.title('Simple Linear Regression: Height vs Weight')\n",
    "\n",
    "# Add a legend\n",
    "plt.legend()\n",
    "\n",
    "# Show the plot\n",
    "plt.show()"
   ]
  },
  {
   "cell_type": "code",
   "execution_count": 137,
   "id": "1a9306fd",
   "metadata": {},
   "outputs": [
    {
     "data": {
      "text/plain": [
       "id\n",
       "74051      8.160661\n",
       "74052      8.920871\n",
       "74053      9.765549\n",
       "74054     11.539373\n",
       "74055      8.583000\n",
       "            ...    \n",
       "123414     9.850017\n",
       "123415     8.076193\n",
       "123416    11.117034\n",
       "123417     9.427678\n",
       "123418    12.299583\n",
       "Name: Length, Length: 49368, dtype: float64"
      ]
     },
     "execution_count": 137,
     "metadata": {},
     "output_type": "execute_result"
    }
   ],
   "source": [
    "# now we have a trained model and get predictions for our y_train\n",
    "test_df = pd.read_csv('./playground-series-s3e16/test.csv')\n",
    "test_df.index = test_df['id']\n",
    "test_x = test_df['Length']\n",
    "\n",
    "y_preds = iterative_betahat * test_x + iterative_alphahat\n",
    "y_preds"
   ]
  },
  {
   "cell_type": "code",
   "execution_count": 133,
   "id": "df3fe5a3",
   "metadata": {},
   "outputs": [],
   "source": [
    "y_preds = pd.DataFrame(y_preds)\n",
    "y_preds = y_preds.rename(columns={\"Length\": \"Age\"})"
   ]
  },
  {
   "cell_type": "code",
   "execution_count": 134,
   "id": "12587e86",
   "metadata": {},
   "outputs": [],
   "source": [
    "y_preds.to_csv('./playground-series-s3e16/simple_LR_Len_crab_preds.csv')"
   ]
  },
  {
   "cell_type": "code",
   "execution_count": 135,
   "id": "cd0de673",
   "metadata": {},
   "outputs": [
    {
     "data": {
      "text/html": [
       "<div>\n",
       "<style scoped>\n",
       "    .dataframe tbody tr th:only-of-type {\n",
       "        vertical-align: middle;\n",
       "    }\n",
       "\n",
       "    .dataframe tbody tr th {\n",
       "        vertical-align: top;\n",
       "    }\n",
       "\n",
       "    .dataframe thead th {\n",
       "        text-align: right;\n",
       "    }\n",
       "</style>\n",
       "<table border=\"1\" class=\"dataframe\">\n",
       "  <thead>\n",
       "    <tr style=\"text-align: right;\">\n",
       "      <th></th>\n",
       "      <th>Age</th>\n",
       "    </tr>\n",
       "    <tr>\n",
       "      <th>id</th>\n",
       "      <th></th>\n",
       "    </tr>\n",
       "  </thead>\n",
       "  <tbody>\n",
       "    <tr>\n",
       "      <th>74051</th>\n",
       "      <td>8.160661</td>\n",
       "    </tr>\n",
       "    <tr>\n",
       "      <th>74052</th>\n",
       "      <td>8.920871</td>\n",
       "    </tr>\n",
       "    <tr>\n",
       "      <th>74053</th>\n",
       "      <td>9.765549</td>\n",
       "    </tr>\n",
       "    <tr>\n",
       "      <th>74054</th>\n",
       "      <td>11.539373</td>\n",
       "    </tr>\n",
       "    <tr>\n",
       "      <th>74055</th>\n",
       "      <td>8.583000</td>\n",
       "    </tr>\n",
       "    <tr>\n",
       "      <th>...</th>\n",
       "      <td>...</td>\n",
       "    </tr>\n",
       "    <tr>\n",
       "      <th>123414</th>\n",
       "      <td>9.850017</td>\n",
       "    </tr>\n",
       "    <tr>\n",
       "      <th>123415</th>\n",
       "      <td>8.076193</td>\n",
       "    </tr>\n",
       "    <tr>\n",
       "      <th>123416</th>\n",
       "      <td>11.117034</td>\n",
       "    </tr>\n",
       "    <tr>\n",
       "      <th>123417</th>\n",
       "      <td>9.427678</td>\n",
       "    </tr>\n",
       "    <tr>\n",
       "      <th>123418</th>\n",
       "      <td>12.299583</td>\n",
       "    </tr>\n",
       "  </tbody>\n",
       "</table>\n",
       "<p>49368 rows × 1 columns</p>\n",
       "</div>"
      ],
      "text/plain": [
       "              Age\n",
       "id               \n",
       "74051    8.160661\n",
       "74052    8.920871\n",
       "74053    9.765549\n",
       "74054   11.539373\n",
       "74055    8.583000\n",
       "...           ...\n",
       "123414   9.850017\n",
       "123415   8.076193\n",
       "123416  11.117034\n",
       "123417   9.427678\n",
       "123418  12.299583\n",
       "\n",
       "[49368 rows x 1 columns]"
      ]
     },
     "execution_count": 135,
     "metadata": {},
     "output_type": "execute_result"
    }
   ],
   "source": [
    "y_preds"
   ]
  },
  {
   "cell_type": "code",
   "execution_count": null,
   "id": "e8f7da59",
   "metadata": {},
   "outputs": [],
   "source": []
  }
 ],
 "metadata": {
  "kernelspec": {
   "display_name": "Python 3 (ipykernel)",
   "language": "python",
   "name": "python3"
  },
  "language_info": {
   "codemirror_mode": {
    "name": "ipython",
    "version": 3
   },
   "file_extension": ".py",
   "mimetype": "text/x-python",
   "name": "python",
   "nbconvert_exporter": "python",
   "pygments_lexer": "ipython3",
   "version": "3.11.5"
  }
 },
 "nbformat": 4,
 "nbformat_minor": 5
}
