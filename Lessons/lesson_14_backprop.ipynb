{
 "cells": [
  {
   "cell_type": "markdown",
   "id": "3b931390",
   "metadata": {},
   "source": [
    "## Backpropagation from the bottom up\n",
    "\n",
    "In today's session we will be going over backpropagation, one of the most important techniques in neural network training.\n",
    "\n",
    "We will begin with a simple expression and perform the backpropagation algorithm on it and work our way up in complexity.\n",
    "\n",
    "The idea of back propogation is that it allows us to compute the gradients of a loss function (output of the neural network) w.r.t to all of the parameters of the neural network and somehow utilise this information to tune network.\n",
    "\n",
    "More abstractly, when you call \"loss.backward()\" in PyTorch you calculate the gradients of the loss function of your choice w.r.t the network parameters and when you call \"optimizer.step()\" you make use of this information to step in the direction on each param which will reduce loss (minimise loss, i.e. go closer to 0)\n",
    "\n",
    "For further reading (or watching) on this I recommend you checkout: https://karpathy.ai/zero-to-hero.html"
   ]
  },
  {
   "cell_type": "code",
   "execution_count": 4,
   "id": "initial_id",
   "metadata": {
    "ExecuteTime": {
     "end_time": "2024-03-18T12:03:54.441692Z",
     "start_time": "2024-03-18T12:03:53.909624Z"
    }
   },
   "outputs": [],
   "source": [
    "import math\n",
    "import numpy as np\n",
    "import matplotlib.pyplot as plt\n",
    "\n",
    "%matplotlib inline"
   ]
  },
  {
   "cell_type": "code",
   "execution_count": 6,
   "id": "d9e7fa03ed929a0c",
   "metadata": {},
   "outputs": [],
   "source": [
    "def f(x):\n",
    "    return 3*x**2 - 4*x + 5"
   ]
  },
  {
   "cell_type": "code",
   "execution_count": 8,
   "id": "525d7da4",
   "metadata": {},
   "outputs": [
    {
     "data": {
      "text/plain": [
       "20.0"
      ]
     },
     "execution_count": 8,
     "metadata": {},
     "output_type": "execute_result"
    }
   ],
   "source": [
    "f(3.0)"
   ]
  },
  {
   "cell_type": "code",
   "execution_count": 10,
   "id": "830ed060",
   "metadata": {},
   "outputs": [
    {
     "data": {
      "text/plain": [
       "[<matplotlib.lines.Line2D at 0x1164d59d0>]"
      ]
     },
     "execution_count": 10,
     "metadata": {},
     "output_type": "execute_result"
    },
    {
     "data": {
      "image/png": "[encoded data removed]",
      "text/plain": [
       "<Figure size 640x480 with 1 Axes>"
      ]
     },
     "metadata": {},
     "output_type": "display_data"
    }
   ],
   "source": [
    "xs = np.arange(-5, 5, 0.25)\n",
    "ys= f(xs)\n",
    "plt.plot(xs, ys)"
   ]
  },
  {
   "cell_type": "code",
   "execution_count": 18,
   "id": "48fee190",
   "metadata": {},
   "outputs": [
    {
     "data": {
      "text/plain": [
       "(20.0, 20.014003000000002)"
      ]
     },
     "execution_count": 18,
     "metadata": {},
     "output_type": "execute_result"
    }
   ],
   "source": [
    "# What is the derivative at different points x of this function?\n",
    "# Definition of the derivative - The derivative tells us how the functions responds by changing the input \n",
    "# slightly given an input x\n",
    "\n",
    "h = 0.001\n",
    "x = 3.0  # Also do again for -3\n",
    "f(x), f(x+h)  # Will f(x+h) > f(x) or f(x+h) < f(x)?"
   ]
  },
  {
   "cell_type": "code",
   "execution_count": 19,
   "id": "b6e898b7",
   "metadata": {},
   "outputs": [
    {
     "data": {
      "text/plain": [
       "14.00300000000243"
      ]
     },
     "execution_count": 19,
     "metadata": {},
     "output_type": "execute_result"
    }
   ],
   "source": [
    "(f(x+h) -f(x)) / h  # Equation for derivative"
   ]
  },
  {
   "cell_type": "code",
   "execution_count": 20,
   "id": "2ae337f3",
   "metadata": {},
   "outputs": [
    {
     "name": "stdout",
     "output_type": "stream",
     "text": [
      "4.0\n"
     ]
    }
   ],
   "source": [
    "# Now lets increase complexity\n",
    "\n",
    "a = 2.0\n",
    "b = -3.0\n",
    "c = 10.0\n",
    "d = a*b + c\n",
    "print(d)\n"
   ]
  },
  {
   "cell_type": "code",
   "execution_count": 23,
   "id": "71eef1ac",
   "metadata": {},
   "outputs": [
    {
     "name": "stdout",
     "output_type": "stream",
     "text": [
      "d1: 4.0, d1: 4.0001, slope: 0.9999999999976694\n"
     ]
    }
   ],
   "source": [
    "h = 0.0001\n",
    "\n",
    "# inputs\n",
    "a = 2.0\n",
    "b = -3.0\n",
    "c = 10.0\n",
    "\n",
    "d1 = a*b + c\n",
    "# a += h\n",
    "# b += h\n",
    "c += h\n",
    "d2 = a*b + c\n",
    "\n",
    "print(f'd1: {d1}, d1: {d2}, slope: {(d2-d1)/h}')  # Before running this think about how the \"+= h\" will affect the output\n"
   ]
  },
  {
   "cell_type": "markdown",
   "id": "e8eb83ca",
   "metadata": {},
   "source": [
    "When working on our autograd (automatic gradient, i.e. using backpropagation) engine we first must create an object which can store each Value in our expressions.\n",
    "\n",
    "I provide the implementation of the \"Value\" class below. This class has 5 attributes and will store the information necessary to compute the gradients in our expressrions."
   ]
  },
  {
   "cell_type": "code",
   "execution_count": 5,
   "id": "cf4cda00",
   "metadata": {},
   "outputs": [
    {
     "data": {
      "text/plain": [
       "Value(data=-8.0)"
      ]
     },
     "execution_count": 5,
     "metadata": {},
     "output_type": "execute_result"
    }
   ],
   "source": [
    "class Value:\n",
    "            \n",
    "    def __init__(self, data, _children=(), _op='', label=''):\n",
    "        self.data = data            # The actual data of the Value object\n",
    "        self.grad = 0.0             # Keep track of the grad w.r.t any input node\n",
    "        self._prev = set(_children) # The children of the node, i.e what inputs created this current Value\n",
    "        self._op = _op              # The operation used to create this node\n",
    "        self.label = label          # The \"name\" of this Value\n",
    "        \n",
    "    def __repr__(self):\n",
    "        return f\"Value(data={self.data})\"\n",
    "    \n",
    "    def __add__(self, other):\n",
    "        out = Value(self.data + other.data, (self, other), '+')\n",
    "        return out\n",
    "    \n",
    "    def __mul__(self, other):\n",
    "        out = Value(self.data * other.data, (self, other), '*')\n",
    "        return out\n",
    "    \n",
    "a = Value(2.0, label='a')\n",
    "b = Value(-3.0, label='b')\n",
    "c = Value(10.0, label='c')\n",
    "e = a * b; e.label='e'\n",
    "d = e + c; d.label='d'\n",
    "f = Value(-2.0, label='f')\n",
    "L = d * f; L.label='L'\n",
    "L"
   ]
  },
  {
   "cell_type": "code",
   "execution_count": 53,
   "id": "023f624f",
   "metadata": {},
   "outputs": [
    {
     "data": {
      "text/plain": [
       "{Value(data=-6.0), Value(data=10.0)}"
      ]
     },
     "execution_count": 53,
     "metadata": {},
     "output_type": "execute_result"
    }
   ],
   "source": [
    "d._prev"
   ]
  },
  {
   "cell_type": "code",
   "execution_count": 54,
   "id": "2ad65657",
   "metadata": {},
   "outputs": [
    {
     "data": {
      "text/plain": [
       "'+'"
      ]
     },
     "execution_count": 54,
     "metadata": {},
     "output_type": "execute_result"
    }
   ],
   "source": [
    "d._op"
   ]
  },
  {
   "cell_type": "code",
   "execution_count": 6,
   "id": "0b1eea88",
   "metadata": {},
   "outputs": [],
   "source": [
    "from graphviz import Digraph\n",
    "\n",
    "def trace(root):\n",
    "    # builds a set of all nodes and edges in a graph\n",
    "    nodes, edges = set(), set()\n",
    "    def build(v):\n",
    "        if v not in nodes:\n",
    "            nodes.add(v)\n",
    "            for child in v._prev:\n",
    "                edges.add((child, v))\n",
    "                build(child)\n",
    "    build(root)\n",
    "    return nodes, edges\n",
    "\n",
    "def draw_dot(root):\n",
    "    dot = Digraph(format='svg', graph_attr={'rankdir': 'LR'}) # LR = left to right\n",
    "  \n",
    "    nodes, edges = trace(root)\n",
    "    for n in nodes:\n",
    "        uid = str(id(n))\n",
    "        # for any value in the graph, create a rectangular ('record') node for it\n",
    "        dot.node(name = uid, label = \"{ %s | data %.4f | grad %.4f }\" % (n.label, n.data, n.grad), shape='record')\n",
    "        if n._op:\n",
    "          # if this value is a result of some operation, create an op node for it\n",
    "          dot.node(name = uid + n._op, label = n._op)\n",
    "          # and connect this node to it\n",
    "          dot.edge(uid + n._op, uid)\n",
    "\n",
    "    for n1, n2 in edges:\n",
    "        # connect n1 to the op node of n2\n",
    "        dot.edge(str(id(n1)), str(id(n2)) + n2._op)\n",
    "\n",
    "    return dot"
   ]
  },
  {
   "cell_type": "code",
   "execution_count": 39,
   "id": "92359bb6",
   "metadata": {},
   "outputs": [
    {
     "data": {
      "image/svg+xml": [
       "<?xml version=\"1.0\" encoding=\"UTF-8\" standalone=\"no\"?>\n",
       "<!DOCTYPE svg PUBLIC \"-//W3C//DTD SVG 1.1//EN\"\n",
       " \"http://www.w3.org/Graphics/SVG/1.1/DTD/svg11.dtd\">\n",
       "<!-- Generated by graphviz version 2.50.0 (0)\n",
       " -->\n",
       "<!-- Pages: 1 -->\n",
       "<svg width=\"1148pt\" height=\"128pt\"\n",
       " viewBox=\"0.00 0.00 1148.00 128.00\" xmlns=\"http://www.w3.org/2000/svg\" xmlns:xlink=\"http://www.w3.org/1999/xlink\">\n",
       "<g id=\"graph0\" class=\"graph\" transform=\"scale(1 1) rotate(0) translate(4 124)\">\n",
       "<polygon fill=\"white\" stroke=\"transparent\" points=\"-4,4 -4,-124 1144,-124 1144,4 -4,4\"/>\n",
       "<!-- 4628643344 -->\n",
       "<g id=\"node1\" class=\"node\">\n",
       "<title>4628643344</title>\n",
       "<polygon fill=\"none\" stroke=\"black\" points=\"634,-82.5 634,-118.5 822,-118.5 822,-82.5 634,-82.5\"/>\n",
       "<text text-anchor=\"middle\" x=\"644.5\" y=\"-96.8\" font-family=\"Times,serif\" font-size=\"14.00\">f</text>\n",
       "<polyline fill=\"none\" stroke=\"black\" points=\"655,-82.5 655,-118.5 \"/>\n",
       "<text text-anchor=\"middle\" x=\"697.5\" y=\"-96.8\" font-family=\"Times,serif\" font-size=\"14.00\">data &#45;2.0000</text>\n",
       "<polyline fill=\"none\" stroke=\"black\" points=\"740,-82.5 740,-118.5 \"/>\n",
       "<text text-anchor=\"middle\" x=\"781\" y=\"-96.8\" font-family=\"Times,serif\" font-size=\"14.00\">grad 0.0000</text>\n",
       "</g>\n",
       "<!-- 4628641936* -->\n",
       "<g id=\"node5\" class=\"node\">\n",
       "<title>4628641936*</title>\n",
       "<ellipse fill=\"none\" stroke=\"black\" cx=\"885\" cy=\"-72.5\" rx=\"27\" ry=\"18\"/>\n",
       "<text text-anchor=\"middle\" x=\"885\" y=\"-68.8\" font-family=\"Times,serif\" font-size=\"14.00\">*</text>\n",
       "</g>\n",
       "<!-- 4628643344&#45;&gt;4628641936* -->\n",
       "<g id=\"edge6\" class=\"edge\">\n",
       "<title>4628643344&#45;&gt;4628641936*</title>\n",
       "<path fill=\"none\" stroke=\"black\" d=\"M822.29,-83.65C831.57,-81.97 840.52,-80.35 848.61,-78.89\"/>\n",
       "<polygon fill=\"black\" stroke=\"black\" points=\"849.46,-82.3 858.68,-77.07 848.21,-75.41 849.46,-82.3\"/>\n",
       "</g>\n",
       "<!-- 4628711504 -->\n",
       "<g id=\"node2\" class=\"node\">\n",
       "<title>4628711504</title>\n",
       "<polygon fill=\"none\" stroke=\"black\" points=\"317,-55.5 317,-91.5 507,-91.5 507,-55.5 317,-55.5\"/>\n",
       "<text text-anchor=\"middle\" x=\"328.5\" y=\"-69.8\" font-family=\"Times,serif\" font-size=\"14.00\">e</text>\n",
       "<polyline fill=\"none\" stroke=\"black\" points=\"340,-55.5 340,-91.5 \"/>\n",
       "<text text-anchor=\"middle\" x=\"382.5\" y=\"-69.8\" font-family=\"Times,serif\" font-size=\"14.00\">data &#45;6.0000</text>\n",
       "<polyline fill=\"none\" stroke=\"black\" points=\"425,-55.5 425,-91.5 \"/>\n",
       "<text text-anchor=\"middle\" x=\"466\" y=\"-69.8\" font-family=\"Times,serif\" font-size=\"14.00\">grad 0.0000</text>\n",
       "</g>\n",
       "<!-- 4628721424+ -->\n",
       "<g id=\"node8\" class=\"node\">\n",
       "<title>4628721424+</title>\n",
       "<ellipse fill=\"none\" stroke=\"black\" cx=\"571\" cy=\"-45.5\" rx=\"27\" ry=\"18\"/>\n",
       "<text text-anchor=\"middle\" x=\"571\" y=\"-41.8\" font-family=\"Times,serif\" font-size=\"14.00\">+</text>\n",
       "</g>\n",
       "<!-- 4628711504&#45;&gt;4628721424+ -->\n",
       "<g id=\"edge5\" class=\"edge\">\n",
       "<title>4628711504&#45;&gt;4628721424+</title>\n",
       "<path fill=\"none\" stroke=\"black\" d=\"M507.05,-56.73C516.89,-54.97 526.39,-53.28 534.9,-51.76\"/>\n",
       "<polygon fill=\"black\" stroke=\"black\" points=\"535.52,-55.2 544.75,-50 534.29,-48.31 535.52,-55.2\"/>\n",
       "</g>\n",
       "<!-- 4628711504* -->\n",
       "<g id=\"node3\" class=\"node\">\n",
       "<title>4628711504*</title>\n",
       "<ellipse fill=\"none\" stroke=\"black\" cx=\"253\" cy=\"-73.5\" rx=\"27\" ry=\"18\"/>\n",
       "<text text-anchor=\"middle\" x=\"253\" y=\"-69.8\" font-family=\"Times,serif\" font-size=\"14.00\">*</text>\n",
       "</g>\n",
       "<!-- 4628711504*&#45;&gt;4628711504 -->\n",
       "<g id=\"edge1\" class=\"edge\">\n",
       "<title>4628711504*&#45;&gt;4628711504</title>\n",
       "<path fill=\"none\" stroke=\"black\" d=\"M280.28,-73.5C288.05,-73.5 297.08,-73.5 306.68,-73.5\"/>\n",
       "<polygon fill=\"black\" stroke=\"black\" points=\"306.88,-77 316.88,-73.5 306.88,-70 306.88,-77\"/>\n",
       "</g>\n",
       "<!-- 4628641936 -->\n",
       "<g id=\"node4\" class=\"node\">\n",
       "<title>4628641936</title>\n",
       "<polygon fill=\"none\" stroke=\"black\" points=\"948,-54.5 948,-90.5 1140,-90.5 1140,-54.5 948,-54.5\"/>\n",
       "<text text-anchor=\"middle\" x=\"960.5\" y=\"-68.8\" font-family=\"Times,serif\" font-size=\"14.00\">L</text>\n",
       "<polyline fill=\"none\" stroke=\"black\" points=\"973,-54.5 973,-90.5 \"/>\n",
       "<text text-anchor=\"middle\" x=\"1015.5\" y=\"-68.8\" font-family=\"Times,serif\" font-size=\"14.00\">data &#45;8.0000</text>\n",
       "<polyline fill=\"none\" stroke=\"black\" points=\"1058,-54.5 1058,-90.5 \"/>\n",
       "<text text-anchor=\"middle\" x=\"1099\" y=\"-68.8\" font-family=\"Times,serif\" font-size=\"14.00\">grad 0.0000</text>\n",
       "</g>\n",
       "<!-- 4628641936*&#45;&gt;4628641936 -->\n",
       "<g id=\"edge2\" class=\"edge\">\n",
       "<title>4628641936*&#45;&gt;4628641936</title>\n",
       "<path fill=\"none\" stroke=\"black\" d=\"M912.28,-72.5C919.78,-72.5 928.44,-72.5 937.67,-72.5\"/>\n",
       "<polygon fill=\"black\" stroke=\"black\" points=\"937.87,-76 947.87,-72.5 937.87,-69 937.87,-76\"/>\n",
       "</g>\n",
       "<!-- 4628725456 -->\n",
       "<g id=\"node6\" class=\"node\">\n",
       "<title>4628725456</title>\n",
       "<polygon fill=\"none\" stroke=\"black\" points=\"316,-0.5 316,-36.5 508,-36.5 508,-0.5 316,-0.5\"/>\n",
       "<text text-anchor=\"middle\" x=\"327.5\" y=\"-14.8\" font-family=\"Times,serif\" font-size=\"14.00\">c</text>\n",
       "<polyline fill=\"none\" stroke=\"black\" points=\"339,-0.5 339,-36.5 \"/>\n",
       "<text text-anchor=\"middle\" x=\"382.5\" y=\"-14.8\" font-family=\"Times,serif\" font-size=\"14.00\">data 10.0000</text>\n",
       "<polyline fill=\"none\" stroke=\"black\" points=\"426,-0.5 426,-36.5 \"/>\n",
       "<text text-anchor=\"middle\" x=\"467\" y=\"-14.8\" font-family=\"Times,serif\" font-size=\"14.00\">grad 0.0000</text>\n",
       "</g>\n",
       "<!-- 4628725456&#45;&gt;4628721424+ -->\n",
       "<g id=\"edge8\" class=\"edge\">\n",
       "<title>4628725456&#45;&gt;4628721424+</title>\n",
       "<path fill=\"none\" stroke=\"black\" d=\"M508.4,-34.91C517.69,-36.5 526.64,-38.04 534.71,-39.43\"/>\n",
       "<polygon fill=\"black\" stroke=\"black\" points=\"534.32,-42.91 544.76,-41.16 535.5,-36.02 534.32,-42.91\"/>\n",
       "</g>\n",
       "<!-- 4628721424 -->\n",
       "<g id=\"node7\" class=\"node\">\n",
       "<title>4628721424</title>\n",
       "<polygon fill=\"none\" stroke=\"black\" points=\"635.5,-27.5 635.5,-63.5 820.5,-63.5 820.5,-27.5 635.5,-27.5\"/>\n",
       "<text text-anchor=\"middle\" x=\"647\" y=\"-41.8\" font-family=\"Times,serif\" font-size=\"14.00\">d</text>\n",
       "<polyline fill=\"none\" stroke=\"black\" points=\"658.5,-27.5 658.5,-63.5 \"/>\n",
       "<text text-anchor=\"middle\" x=\"698.5\" y=\"-41.8\" font-family=\"Times,serif\" font-size=\"14.00\">data 4.0000</text>\n",
       "<polyline fill=\"none\" stroke=\"black\" points=\"738.5,-27.5 738.5,-63.5 \"/>\n",
       "<text text-anchor=\"middle\" x=\"779.5\" y=\"-41.8\" font-family=\"Times,serif\" font-size=\"14.00\">grad 0.0000</text>\n",
       "</g>\n",
       "<!-- 4628721424&#45;&gt;4628641936* -->\n",
       "<g id=\"edge7\" class=\"edge\">\n",
       "<title>4628721424&#45;&gt;4628641936*</title>\n",
       "<path fill=\"none\" stroke=\"black\" d=\"M820.51,-61.44C830.48,-63.18 840.13,-64.86 848.77,-66.36\"/>\n",
       "<polygon fill=\"black\" stroke=\"black\" points=\"848.31,-69.84 858.77,-68.1 849.52,-62.94 848.31,-69.84\"/>\n",
       "</g>\n",
       "<!-- 4628721424+&#45;&gt;4628721424 -->\n",
       "<g id=\"edge3\" class=\"edge\">\n",
       "<title>4628721424+&#45;&gt;4628721424</title>\n",
       "<path fill=\"none\" stroke=\"black\" d=\"M598.29,-45.5C606.26,-45.5 615.54,-45.5 625.39,-45.5\"/>\n",
       "<polygon fill=\"black\" stroke=\"black\" points=\"625.41,-49 635.41,-45.5 625.41,-42 625.41,-49\"/>\n",
       "</g>\n",
       "<!-- 4609999312 -->\n",
       "<g id=\"node9\" class=\"node\">\n",
       "<title>4609999312</title>\n",
       "<polygon fill=\"none\" stroke=\"black\" points=\"2.5,-83.5 2.5,-119.5 187.5,-119.5 187.5,-83.5 2.5,-83.5\"/>\n",
       "<text text-anchor=\"middle\" x=\"14\" y=\"-97.8\" font-family=\"Times,serif\" font-size=\"14.00\">a</text>\n",
       "<polyline fill=\"none\" stroke=\"black\" points=\"25.5,-83.5 25.5,-119.5 \"/>\n",
       "<text text-anchor=\"middle\" x=\"65.5\" y=\"-97.8\" font-family=\"Times,serif\" font-size=\"14.00\">data 2.0000</text>\n",
       "<polyline fill=\"none\" stroke=\"black\" points=\"105.5,-83.5 105.5,-119.5 \"/>\n",
       "<text text-anchor=\"middle\" x=\"146.5\" y=\"-97.8\" font-family=\"Times,serif\" font-size=\"14.00\">grad 0.0000</text>\n",
       "</g>\n",
       "<!-- 4609999312&#45;&gt;4628711504* -->\n",
       "<g id=\"edge9\" class=\"edge\">\n",
       "<title>4609999312&#45;&gt;4628711504*</title>\n",
       "<path fill=\"none\" stroke=\"black\" d=\"M187.65,-85.05C197.94,-83.2 207.91,-81.41 216.81,-79.82\"/>\n",
       "<polygon fill=\"black\" stroke=\"black\" points=\"217.48,-83.25 226.71,-78.04 216.25,-76.36 217.48,-83.25\"/>\n",
       "</g>\n",
       "<!-- 4610465232 -->\n",
       "<g id=\"node10\" class=\"node\">\n",
       "<title>4610465232</title>\n",
       "<polygon fill=\"none\" stroke=\"black\" points=\"0,-28.5 0,-64.5 190,-64.5 190,-28.5 0,-28.5\"/>\n",
       "<text text-anchor=\"middle\" x=\"11.5\" y=\"-42.8\" font-family=\"Times,serif\" font-size=\"14.00\">b</text>\n",
       "<polyline fill=\"none\" stroke=\"black\" points=\"23,-28.5 23,-64.5 \"/>\n",
       "<text text-anchor=\"middle\" x=\"65.5\" y=\"-42.8\" font-family=\"Times,serif\" font-size=\"14.00\">data &#45;3.0000</text>\n",
       "<polyline fill=\"none\" stroke=\"black\" points=\"108,-28.5 108,-64.5 \"/>\n",
       "<text text-anchor=\"middle\" x=\"149\" y=\"-42.8\" font-family=\"Times,serif\" font-size=\"14.00\">grad 0.0000</text>\n",
       "</g>\n",
       "<!-- 4610465232&#45;&gt;4628711504* -->\n",
       "<g id=\"edge4\" class=\"edge\">\n",
       "<title>4610465232&#45;&gt;4628711504*</title>\n",
       "<path fill=\"none\" stroke=\"black\" d=\"M190.34,-62.83C199.62,-64.44 208.58,-65.99 216.66,-67.38\"/>\n",
       "<polygon fill=\"black\" stroke=\"black\" points=\"216.27,-70.87 226.72,-69.12 217.46,-63.97 216.27,-70.87\"/>\n",
       "</g>\n",
       "</g>\n",
       "</svg>\n"
      ],
      "text/plain": [
       "<graphviz.graphs.Digraph at 0x113eeefd0>"
      ]
     },
     "execution_count": 39,
     "metadata": {},
     "output_type": "execute_result"
    }
   ],
   "source": [
    "draw_dot(L)"
   ]
  },
  {
   "cell_type": "code",
   "execution_count": 70,
   "id": "faed4fbc",
   "metadata": {},
   "outputs": [],
   "source": [
    "# So we have can build out scalar valued mathematical expressions and do a forward pass to build \n",
    "# a complete mathematical expression with multiple inputs\n",
    "\n",
    "# Now lets do backprop on this expression!!!"
   ]
  },
  {
   "cell_type": "code",
   "execution_count": 75,
   "id": "5f992489",
   "metadata": {},
   "outputs": [],
   "source": [
    "# Manually set the gradients here\n",
    "# e.g.\n",
    "L.grad = 1\n",
    "\n",
    "f.grad = ...\n",
    "d.grad = ...\n",
    "\n",
    "e.grad = ...\n",
    "c.grad = ...\n",
    "\n",
    "a.grad = ...\n",
    "b.grad = ..."
   ]
  },
  {
   "cell_type": "code",
   "execution_count": 100,
   "id": "a751b20f",
   "metadata": {},
   "outputs": [
    {
     "name": "stdout",
     "output_type": "stream",
     "text": [
      "0.0\n"
     ]
    }
   ],
   "source": [
    "# estimating gradients as before! Use this code to verify your manual derivations.\n",
    "\n",
    "def lol():\n",
    "    h = 0.001\n",
    "    \n",
    "    a = Value(2.0, label='a')\n",
    "    b = Value(-3.0, label='b')\n",
    "    c = Value(10.0, label='c')\n",
    "    e = a * b; e.label='e'\n",
    "    d = e + c; d.label='d'\n",
    "    f = Value(-2.0, label='f')\n",
    "    L = d * f; L.label='L'\n",
    "    L1 = L.data\n",
    "    \n",
    "    a = Value(2.0, label='a')\n",
    "    b = Value(-3.0, label='b')\n",
    "    c = Value(10.0, label='c')\n",
    "    e = a * b; e.label='e'\n",
    "    d = e + c; d.label='d'\n",
    "    f = Value(-2.0, label='f')\n",
    "    L = d * f; L.label='L'\n",
    "    L2 = L.data\n",
    "    \n",
    "    print((L2-L1)/h)\n",
    "    \n",
    "lol()"
   ]
  },
  {
   "cell_type": "markdown",
   "id": "b25c6916",
   "metadata": {},
   "source": [
    "Lets derive the derivatives of the output L w.r.t to each input in the expression by hand first.\n",
    "\n",
    "We have three equations: \n",
    "    $$e = a * b$$\n",
    "    $$d = e + c$$\n",
    "    $$L = d * f$$\n",
    "\n",
    "And we can use the chain rule to get the derivatives of L w.r.t to each: L, d, f, e, c, a, b\n",
    "\n",
    "<b> Chain rule: </b>\n",
    "    $$\\frac{dy}{dx}=\\frac{dy}{du} \\frac{du}{dx}$$"
   ]
  },
  {
   "cell_type": "code",
   "execution_count": 98,
   "id": "62187b92",
   "metadata": {},
   "outputs": [],
   "source": [
    "# All that should give us the following gradients\n",
    "L.grad = 1\n",
    "\n",
    "f.grad = 4.0\n",
    "d.grad = -2.0\n",
    "\n",
    "e.grad = -2.0\n",
    "c.grad = -2.0\n",
    "\n",
    "a.grad = 6.0\n",
    "b.grad = -4.0"
   ]
  },
  {
   "cell_type": "code",
   "execution_count": 92,
   "id": "eec78ffc",
   "metadata": {
    "scrolled": true
   },
   "outputs": [
    {
     "name": "stdout",
     "output_type": "stream",
     "text": [
      "-7.286496\n"
     ]
    }
   ],
   "source": [
    "# Now we can use the gradient information we calculated and stored in our Value objects to do a forward pass\n",
    "# which should minimise L slightly!\n",
    "a.data += 0.01 * a.grad\n",
    "b.data += 0.01 * b.grad\n",
    "c.data += 0.01 * c.grad\n",
    "f.data += 0.01 * f.grad\n",
    "\n",
    "# You may notice we don't actually use the gradients of e and d, why is that?\n",
    "\n",
    "# It's becuase they are intermediate variables who's value is determined by a,c,b and f. They have no independent\n",
    "# existence outside of these variables.\n",
    "\n",
    "e = a * b\n",
    "d = e + c\n",
    "L = d * f\n",
    "\n",
    "print(L.data)"
   ]
  },
  {
   "cell_type": "markdown",
   "id": "6e61537a",
   "metadata": {},
   "source": [
    "## An example of manual back propagation!\n",
    "\n",
    "This is an example thought up by yours truly so it may not work as expected but lets give it a go!\n",
    "\n",
    "I am going to give you some mathematical expressions and they will be chained together to form a simple neural network. We will use backpropagation to figure out the approx values of the parameters of the pseduo-network and get to the base function!\n",
    "\n",
    "We will initialise the values of the function to some randon number and we want to bump them using backpropagation and gradient descent to figure out the hidden function!\n",
    "\n",
    "Our input is 5 and the target output is -160"
   ]
  },
  {
   "cell_type": "code",
   "execution_count": 457,
   "id": "1e190754",
   "metadata": {},
   "outputs": [],
   "source": [
    "def MSE(y, yhat):\n",
    "    if isinstance(y, list):\n",
    "        n = len(y)\n",
    "        errors = sum(y - yhat)\n",
    "        MSE = (1/n) * (errors**2)\n",
    "        \n",
    "        return MSE\n",
    "    \n",
    "    else:\n",
    "        MSE = (y - yhat)**2\n",
    "    \n",
    "        return MSE"
   ]
  },
  {
   "cell_type": "code",
   "execution_count": 539,
   "id": "6d17152c",
   "metadata": {},
   "outputs": [],
   "source": [
    "y = -160"
   ]
  },
  {
   "cell_type": "code",
   "execution_count": 540,
   "id": "a065a2c8",
   "metadata": {},
   "outputs": [],
   "source": [
    "x = Value(5, label='x')\n",
    "\n",
    "n = Value(np.random.randint(-10, -2), label='n')\n",
    "f1 = n * x; f1.label = 'f1'\n",
    "\n",
    "m = Value(np.random.randint(13, 17), label='m')\n",
    "f2 = m + f1; f2.label = 'f2'\n",
    "\n",
    "o = Value(np.random.randint(2, 6), label='o')\n",
    "yhat = o * f2; yhat.label = 'yhat'"
   ]
  },
  {
   "cell_type": "code",
   "execution_count": 587,
   "id": "a8197f8b",
   "metadata": {
    "scrolled": true
   },
   "outputs": [
    {
     "data": {
      "image/svg+xml": [
       "<?xml version=\"1.0\" encoding=\"UTF-8\" standalone=\"no\"?>\n",
       "<!DOCTYPE svg PUBLIC \"-//W3C//DTD SVG 1.1//EN\"\n",
       " \"http://www.w3.org/Graphics/SVG/1.1/DTD/svg11.dtd\">\n",
       "<!-- Generated by graphviz version 2.50.0 (0)\n",
       " -->\n",
       "<!-- Pages: 1 -->\n",
       "<svg width=\"1204pt\" height=\"154pt\"\n",
       " viewBox=\"0.00 0.00 1204.00 154.00\" xmlns=\"http://www.w3.org/2000/svg\" xmlns:xlink=\"http://www.w3.org/1999/xlink\">\n",
       "<g id=\"graph0\" class=\"graph\" transform=\"scale(1 1) rotate(0) translate(4 150)\">\n",
       "<polygon fill=\"white\" stroke=\"transparent\" points=\"-4,4 -4,-150 1200,-150 1200,4 -4,4\"/>\n",
       "<!-- 5967085072 -->\n",
       "<g id=\"node1\" class=\"node\">\n",
       "<title>5967085072</title>\n",
       "<polygon fill=\"none\" stroke=\"black\" points=\"976,-81.5 976,-117.5 1196,-117.5 1196,-81.5 976,-81.5\"/>\n",
       "<text text-anchor=\"middle\" x=\"996\" y=\"-95.8\" font-family=\"Times,serif\" font-size=\"14.00\">yhat</text>\n",
       "<polyline fill=\"none\" stroke=\"black\" points=\"1016,-81.5 1016,-117.5 \"/>\n",
       "<text text-anchor=\"middle\" x=\"1065\" y=\"-95.8\" font-family=\"Times,serif\" font-size=\"14.00\">data &#45;160.6671</text>\n",
       "<polyline fill=\"none\" stroke=\"black\" points=\"1114,-81.5 1114,-117.5 \"/>\n",
       "<text text-anchor=\"middle\" x=\"1155\" y=\"-95.8\" font-family=\"Times,serif\" font-size=\"14.00\">grad 0.0000</text>\n",
       "</g>\n",
       "<!-- 5967085072* -->\n",
       "<g id=\"node2\" class=\"node\">\n",
       "<title>5967085072*</title>\n",
       "<ellipse fill=\"none\" stroke=\"black\" cx=\"913\" cy=\"-99.5\" rx=\"27\" ry=\"18\"/>\n",
       "<text text-anchor=\"middle\" x=\"913\" y=\"-95.8\" font-family=\"Times,serif\" font-size=\"14.00\">*</text>\n",
       "</g>\n",
       "<!-- 5967085072*&#45;&gt;5967085072 -->\n",
       "<g id=\"edge1\" class=\"edge\">\n",
       "<title>5967085072*&#45;&gt;5967085072</title>\n",
       "<path fill=\"none\" stroke=\"black\" d=\"M940.34,-99.5C947.77,-99.5 956.37,-99.5 965.6,-99.5\"/>\n",
       "<polygon fill=\"black\" stroke=\"black\" points=\"965.84,-103 975.84,-99.5 965.84,-96 965.84,-103\"/>\n",
       "</g>\n",
       "<!-- 5967230032 -->\n",
       "<g id=\"node3\" class=\"node\">\n",
       "<title>5967230032</title>\n",
       "<polygon fill=\"none\" stroke=\"black\" points=\"320.5,-82.5 320.5,-118.5 521.5,-118.5 521.5,-82.5 320.5,-82.5\"/>\n",
       "<text text-anchor=\"middle\" x=\"334.5\" y=\"-96.8\" font-family=\"Times,serif\" font-size=\"14.00\">m</text>\n",
       "<polyline fill=\"none\" stroke=\"black\" points=\"348.5,-82.5 348.5,-118.5 \"/>\n",
       "<text text-anchor=\"middle\" x=\"392\" y=\"-96.8\" font-family=\"Times,serif\" font-size=\"14.00\">data 15.8626</text>\n",
       "<polyline fill=\"none\" stroke=\"black\" points=\"435.5,-82.5 435.5,-118.5 \"/>\n",
       "<text text-anchor=\"middle\" x=\"478.5\" y=\"-96.8\" font-family=\"Times,serif\" font-size=\"14.00\">grad &#45;1.6292</text>\n",
       "</g>\n",
       "<!-- 5967072912+ -->\n",
       "<g id=\"node7\" class=\"node\">\n",
       "<title>5967072912+</title>\n",
       "<ellipse fill=\"none\" stroke=\"black\" cx=\"585\" cy=\"-72.5\" rx=\"27\" ry=\"18\"/>\n",
       "<text text-anchor=\"middle\" x=\"585\" y=\"-68.8\" font-family=\"Times,serif\" font-size=\"14.00\">+</text>\n",
       "</g>\n",
       "<!-- 5967230032&#45;&gt;5967072912+ -->\n",
       "<g id=\"edge5\" class=\"edge\">\n",
       "<title>5967230032&#45;&gt;5967072912+</title>\n",
       "<path fill=\"none\" stroke=\"black\" d=\"M521.83,-83.25C531.35,-81.6 540.51,-80.02 548.73,-78.6\"/>\n",
       "<polygon fill=\"black\" stroke=\"black\" points=\"549.34,-82.04 558.6,-76.89 548.15,-75.14 549.34,-82.04\"/>\n",
       "</g>\n",
       "<!-- 5968440400 -->\n",
       "<g id=\"node4\" class=\"node\">\n",
       "<title>5968440400</title>\n",
       "<polygon fill=\"none\" stroke=\"black\" points=\"653,-109.5 653,-145.5 845,-145.5 845,-109.5 653,-109.5\"/>\n",
       "<text text-anchor=\"middle\" x=\"664.5\" y=\"-123.8\" font-family=\"Times,serif\" font-size=\"14.00\">o</text>\n",
       "<polyline fill=\"none\" stroke=\"black\" points=\"676,-109.5 676,-145.5 \"/>\n",
       "<text text-anchor=\"middle\" x=\"716\" y=\"-123.8\" font-family=\"Times,serif\" font-size=\"14.00\">data 5.8269</text>\n",
       "<polyline fill=\"none\" stroke=\"black\" points=\"756,-109.5 756,-145.5 \"/>\n",
       "<text text-anchor=\"middle\" x=\"800.5\" y=\"-123.8\" font-family=\"Times,serif\" font-size=\"14.00\">grad 44.8533</text>\n",
       "</g>\n",
       "<!-- 5968440400&#45;&gt;5967085072* -->\n",
       "<g id=\"edge9\" class=\"edge\">\n",
       "<title>5968440400&#45;&gt;5967085072*</title>\n",
       "<path fill=\"none\" stroke=\"black\" d=\"M845.17,-111.05C856.28,-109.13 867.02,-107.27 876.53,-105.63\"/>\n",
       "<polygon fill=\"black\" stroke=\"black\" points=\"877.43,-109.03 886.68,-103.88 876.23,-102.13 877.43,-109.03\"/>\n",
       "</g>\n",
       "<!-- 5961587856 -->\n",
       "<g id=\"node5\" class=\"node\">\n",
       "<title>5961587856</title>\n",
       "<polygon fill=\"none\" stroke=\"black\" points=\"0,-55.5 0,-91.5 194,-91.5 194,-55.5 0,-55.5\"/>\n",
       "<text text-anchor=\"middle\" x=\"11.5\" y=\"-69.8\" font-family=\"Times,serif\" font-size=\"14.00\">n</text>\n",
       "<polyline fill=\"none\" stroke=\"black\" points=\"23,-55.5 23,-91.5 \"/>\n",
       "<text text-anchor=\"middle\" x=\"65.5\" y=\"-69.8\" font-family=\"Times,serif\" font-size=\"14.00\">data &#45;8.6872</text>\n",
       "<polyline fill=\"none\" stroke=\"black\" points=\"108,-55.5 108,-91.5 \"/>\n",
       "<text text-anchor=\"middle\" x=\"151\" y=\"-69.8\" font-family=\"Times,serif\" font-size=\"14.00\">grad &#45;8.1460</text>\n",
       "</g>\n",
       "<!-- 5967073040* -->\n",
       "<g id=\"node9\" class=\"node\">\n",
       "<title>5967073040*</title>\n",
       "<ellipse fill=\"none\" stroke=\"black\" cx=\"257\" cy=\"-45.5\" rx=\"27\" ry=\"18\"/>\n",
       "<text text-anchor=\"middle\" x=\"257\" y=\"-41.8\" font-family=\"Times,serif\" font-size=\"14.00\">*</text>\n",
       "</g>\n",
       "<!-- 5961587856&#45;&gt;5967073040* -->\n",
       "<g id=\"edge6\" class=\"edge\">\n",
       "<title>5961587856&#45;&gt;5967073040*</title>\n",
       "<path fill=\"none\" stroke=\"black\" d=\"M194.01,-56.49C203.35,-54.83 212.37,-53.23 220.49,-51.79\"/>\n",
       "<polygon fill=\"black\" stroke=\"black\" points=\"221.37,-55.19 230.6,-50 220.15,-48.3 221.37,-55.19\"/>\n",
       "</g>\n",
       "<!-- 5967072912 -->\n",
       "<g id=\"node6\" class=\"node\">\n",
       "<title>5967072912</title>\n",
       "<polygon fill=\"none\" stroke=\"black\" points=\"648,-54.5 648,-90.5 850,-90.5 850,-54.5 648,-54.5\"/>\n",
       "<text text-anchor=\"middle\" x=\"662\" y=\"-68.8\" font-family=\"Times,serif\" font-size=\"14.00\">f2</text>\n",
       "<polyline fill=\"none\" stroke=\"black\" points=\"676,-54.5 676,-90.5 \"/>\n",
       "<text text-anchor=\"middle\" x=\"722\" y=\"-68.8\" font-family=\"Times,serif\" font-size=\"14.00\">data &#45;27.5733</text>\n",
       "<polyline fill=\"none\" stroke=\"black\" points=\"768,-54.5 768,-90.5 \"/>\n",
       "<text text-anchor=\"middle\" x=\"809\" y=\"-68.8\" font-family=\"Times,serif\" font-size=\"14.00\">grad 0.0000</text>\n",
       "</g>\n",
       "<!-- 5967072912&#45;&gt;5967085072* -->\n",
       "<g id=\"edge8\" class=\"edge\">\n",
       "<title>5967072912&#45;&gt;5967085072*</title>\n",
       "<path fill=\"none\" stroke=\"black\" d=\"M850.29,-89.22C859.56,-90.76 868.48,-92.25 876.51,-93.58\"/>\n",
       "<polygon fill=\"black\" stroke=\"black\" points=\"876.07,-97.06 886.51,-95.25 877.22,-90.16 876.07,-97.06\"/>\n",
       "</g>\n",
       "<!-- 5967072912+&#45;&gt;5967072912 -->\n",
       "<g id=\"edge2\" class=\"edge\">\n",
       "<title>5967072912+&#45;&gt;5967072912</title>\n",
       "<path fill=\"none\" stroke=\"black\" d=\"M612.03,-72.5C619.52,-72.5 628.19,-72.5 637.46,-72.5\"/>\n",
       "<polygon fill=\"black\" stroke=\"black\" points=\"637.73,-76 647.73,-72.5 637.73,-69 637.73,-76\"/>\n",
       "</g>\n",
       "<!-- 5967073040 -->\n",
       "<g id=\"node8\" class=\"node\">\n",
       "<title>5967073040</title>\n",
       "<polygon fill=\"none\" stroke=\"black\" points=\"320,-27.5 320,-63.5 522,-63.5 522,-27.5 320,-27.5\"/>\n",
       "<text text-anchor=\"middle\" x=\"334\" y=\"-41.8\" font-family=\"Times,serif\" font-size=\"14.00\">f1</text>\n",
       "<polyline fill=\"none\" stroke=\"black\" points=\"348,-27.5 348,-63.5 \"/>\n",
       "<text text-anchor=\"middle\" x=\"394\" y=\"-41.8\" font-family=\"Times,serif\" font-size=\"14.00\">data &#45;43.4358</text>\n",
       "<polyline fill=\"none\" stroke=\"black\" points=\"440,-27.5 440,-63.5 \"/>\n",
       "<text text-anchor=\"middle\" x=\"481\" y=\"-41.8\" font-family=\"Times,serif\" font-size=\"14.00\">grad 0.0000</text>\n",
       "</g>\n",
       "<!-- 5967073040&#45;&gt;5967072912+ -->\n",
       "<g id=\"edge4\" class=\"edge\">\n",
       "<title>5967073040&#45;&gt;5967072912+</title>\n",
       "<path fill=\"none\" stroke=\"black\" d=\"M522.29,-62.22C531.56,-63.76 540.48,-65.25 548.51,-66.58\"/>\n",
       "<polygon fill=\"black\" stroke=\"black\" points=\"548.07,-70.06 558.51,-68.25 549.22,-63.16 548.07,-70.06\"/>\n",
       "</g>\n",
       "<!-- 5967073040*&#45;&gt;5967073040 -->\n",
       "<g id=\"edge3\" class=\"edge\">\n",
       "<title>5967073040*&#45;&gt;5967073040</title>\n",
       "<path fill=\"none\" stroke=\"black\" d=\"M284.03,-45.5C291.52,-45.5 300.19,-45.5 309.46,-45.5\"/>\n",
       "<polygon fill=\"black\" stroke=\"black\" points=\"309.73,-49 319.73,-45.5 309.73,-42 309.73,-49\"/>\n",
       "</g>\n",
       "<!-- 5967171408 -->\n",
       "<g id=\"node10\" class=\"node\">\n",
       "<title>5967171408</title>\n",
       "<polygon fill=\"none\" stroke=\"black\" points=\"1,-0.5 1,-36.5 193,-36.5 193,-0.5 1,-0.5\"/>\n",
       "<text text-anchor=\"middle\" x=\"12.5\" y=\"-14.8\" font-family=\"Times,serif\" font-size=\"14.00\">x</text>\n",
       "<polyline fill=\"none\" stroke=\"black\" points=\"24,-0.5 24,-36.5 \"/>\n",
       "<text text-anchor=\"middle\" x=\"64\" y=\"-14.8\" font-family=\"Times,serif\" font-size=\"14.00\">data 5.0000</text>\n",
       "<polyline fill=\"none\" stroke=\"black\" points=\"104,-0.5 104,-36.5 \"/>\n",
       "<text text-anchor=\"middle\" x=\"148.5\" y=\"-14.8\" font-family=\"Times,serif\" font-size=\"14.00\">grad 14.1399</text>\n",
       "</g>\n",
       "<!-- 5967171408&#45;&gt;5967073040* -->\n",
       "<g id=\"edge7\" class=\"edge\">\n",
       "<title>5967171408&#45;&gt;5967073040*</title>\n",
       "<path fill=\"none\" stroke=\"black\" d=\"M193.1,-34.75C202.75,-36.4 212.07,-37.99 220.44,-39.42\"/>\n",
       "<polygon fill=\"black\" stroke=\"black\" points=\"220.04,-42.91 230.49,-41.14 221.22,-36.01 220.04,-42.91\"/>\n",
       "</g>\n",
       "</g>\n",
       "</svg>\n"
      ],
      "text/plain": [
       "<graphviz.graphs.Digraph at 0x163a64ad0>"
      ]
     },
     "execution_count": 587,
     "metadata": {},
     "output_type": "execute_result"
    }
   ],
   "source": [
    "draw_dot(yhat)"
   ]
  },
  {
   "cell_type": "code",
   "execution_count": 542,
   "id": "69d43aed",
   "metadata": {},
   "outputs": [
    {
     "data": {
      "text/plain": [
       "(Value(data=-72), 7744)"
      ]
     },
     "execution_count": 542,
     "metadata": {},
     "output_type": "execute_result"
    }
   ],
   "source": [
    "yhat, MSE(y, yhat.data)"
   ]
  },
  {
   "cell_type": "markdown",
   "id": "20f89c89",
   "metadata": {},
   "source": [
    "# Lets compute gradient with just respect to the output and see what happens!"
   ]
  },
  {
   "cell_type": "code",
   "execution_count": 305,
   "id": "30882355",
   "metadata": {},
   "outputs": [],
   "source": [
    "x.grad = o.data * n.data\n",
    "n.grad = o.data * x.data\n",
    "\n",
    "f1.grad = o.data\n",
    "m.grad = o.data\n",
    "\n",
    "f2.grad = o.data\n",
    "o.grad = f2.data\n",
    "\n",
    "yhat.grad = 1"
   ]
  },
  {
   "cell_type": "code",
   "execution_count": 306,
   "id": "e8330790",
   "metadata": {},
   "outputs": [],
   "source": [
    "n.data += 0.001 * n.grad\n",
    "m.data += 0.001 * m.grad\n",
    "o.data += 0.001 * o.grad\n",
    "\n",
    "\n",
    "f1 = n * x; f1.label = 'f1'\n",
    "f2 = m + f1; f2.label = 'f2'\n",
    "yhat = o * f2; yhat.label = 'yhat'"
   ]
  },
  {
   "cell_type": "code",
   "execution_count": 307,
   "id": "536a7462",
   "metadata": {},
   "outputs": [
    {
     "data": {
      "text/plain": [
       "(Value(data=396.95913512339996), 299164.2954949377)"
      ]
     },
     "execution_count": 307,
     "metadata": {},
     "output_type": "execute_result"
    }
   ],
   "source": [
    "yhat, MSE(y, yhat.data)"
   ]
  },
  {
   "cell_type": "markdown",
   "id": "d29a4957",
   "metadata": {},
   "source": [
    "# Now lets compute the gradients w.r.t to L (MSE)"
   ]
  },
  {
   "cell_type": "code",
   "execution_count": 585,
   "id": "d560bd4a",
   "metadata": {},
   "outputs": [],
   "source": [
    "yhat.grad = 2*(y - yhat.data)\n",
    "\n",
    "o.grad = yhat.grad * f2.data\n",
    "f2.grad = yhat.grad * o.data\n",
    "\n",
    "m.grad = yhat.grad\n",
    "f1.grad = yhat.grad\n",
    "\n",
    "n.grad = yhat.grad * x.data\n",
    "x.grad = yhat.grad * n.data"
   ]
  },
  {
   "cell_type": "code",
   "execution_count": 586,
   "id": "e186c7c9",
   "metadata": {},
   "outputs": [
    {
     "data": {
      "text/plain": [
       "(Value(data=-160.66707620577674), 0.44499066431348844)"
      ]
     },
     "execution_count": 586,
     "metadata": {},
     "output_type": "execute_result"
    }
   ],
   "source": [
    "n.data += 0.001 * n.grad\n",
    "m.data += 0.001 * m.grad\n",
    "o.data += 0.001 * o.grad\n",
    "\n",
    "\n",
    "f1 = n * x; f1.label = 'f1'\n",
    "f2 = m + f1; f2.label = 'f2'\n",
    "yhat = o * f2; yhat.label = 'yhat'\n",
    "\n",
    "yhat, MSE(y, yhat.data)"
   ]
  },
  {
   "cell_type": "markdown",
   "id": "06c378fa",
   "metadata": {},
   "source": [
    "## Below is a simple neural network which does the same thing!!!"
   ]
  },
  {
   "cell_type": "code",
   "execution_count": 142,
   "id": "0d24eb2d",
   "metadata": {},
   "outputs": [
    {
     "name": "stdout",
     "output_type": "stream",
     "text": [
      "tensor([[-0.0233]], grad_fn=<MmBackward0>)\n",
      "Epoch 0, Loss: 22492.99609375\n",
      "tensor([[-0.0308]], grad_fn=<MmBackward0>)\n",
      "tensor([[-0.0395]], grad_fn=<MmBackward0>)\n",
      "tensor([[-0.0498]], grad_fn=<MmBackward0>)\n",
      "tensor([[-0.0621]], grad_fn=<MmBackward0>)\n",
      "tensor([[-0.0770]], grad_fn=<MmBackward0>)\n",
      "Epoch 5, Loss: 22476.912109375\n",
      "tensor([[-0.0951]], grad_fn=<MmBackward0>)\n",
      "tensor([[-0.1174]], grad_fn=<MmBackward0>)\n",
      "tensor([[-0.1448]], grad_fn=<MmBackward0>)\n",
      "tensor([[-0.1789]], grad_fn=<MmBackward0>)\n",
      "tensor([[-0.2215]], grad_fn=<MmBackward0>)\n",
      "Epoch 10, Loss: 22433.609375\n",
      "tensor([[-0.2750]], grad_fn=<MmBackward0>)\n",
      "tensor([[-0.3428]], grad_fn=<MmBackward0>)\n",
      "tensor([[-0.4296]], grad_fn=<MmBackward0>)\n",
      "tensor([[-0.5417]], grad_fn=<MmBackward0>)\n",
      "tensor([[-0.6887]], grad_fn=<MmBackward0>)\n",
      "Epoch 15, Loss: 22293.8671875\n",
      "tensor([[-0.8842]], grad_fn=<MmBackward0>)\n",
      "tensor([[-1.1489]], grad_fn=<MmBackward0>)\n",
      "tensor([[-1.5152]], grad_fn=<MmBackward0>)\n",
      "tensor([[-2.0349]], grad_fn=<MmBackward0>)\n",
      "tensor([[-2.7943]], grad_fn=<MmBackward0>)\n",
      "Epoch 20, Loss: 21669.515625\n",
      "tensor([[-3.9431]], grad_fn=<MmBackward0>)\n",
      "tensor([[-5.7521]], grad_fn=<MmBackward0>)\n",
      "tensor([[-8.7350]], grad_fn=<MmBackward0>)\n",
      "tensor([[-13.9113]], grad_fn=<MmBackward0>)\n",
      "tensor([[-23.3706]], grad_fn=<MmBackward0>)\n",
      "Epoch 25, Loss: 16035.00390625\n",
      "tensor([[-41.3136]], grad_fn=<MmBackward0>)\n",
      "tensor([[-74.5627]], grad_fn=<MmBackward0>)\n",
      "tensor([[-123.8256]], grad_fn=<MmBackward0>)\n",
      "tensor([[-154.1723]], grad_fn=<MmBackward0>)\n",
      "tensor([[-148.2351]], grad_fn=<MmBackward0>)\n",
      "Epoch 30, Loss: 3.1147379875183105\n",
      "tensor([[-150.6626]], grad_fn=<MmBackward0>)\n",
      "tensor([[-149.7382]], grad_fn=<MmBackward0>)\n",
      "tensor([[-150.1015]], grad_fn=<MmBackward0>)\n",
      "tensor([[-149.9604]], grad_fn=<MmBackward0>)\n",
      "tensor([[-150.0154]], grad_fn=<MmBackward0>)\n",
      "Epoch 35, Loss: 0.00023845210671424866\n",
      "tensor([[-149.9940]], grad_fn=<MmBackward0>)\n",
      "tensor([[-150.0023]], grad_fn=<MmBackward0>)\n",
      "tensor([[-149.9991]], grad_fn=<MmBackward0>)\n",
      "tensor([[-150.0004]], grad_fn=<MmBackward0>)\n",
      "tensor([[-149.9998]], grad_fn=<MmBackward0>)\n",
      "Epoch 40, Loss: 2.8172507882118225e-08\n",
      "tensor([[-150.0001]], grad_fn=<MmBackward0>)\n",
      "tensor([[-150.0000]], grad_fn=<MmBackward0>)\n",
      "tensor([[-150.0000]], grad_fn=<MmBackward0>)\n",
      "tensor([[-150.0000]], grad_fn=<MmBackward0>)\n",
      "tensor([[-150.0000]], grad_fn=<MmBackward0>)\n",
      "Epoch 45, Loss: 2.3283064365386963e-10\n",
      "tensor([[-150.0000]], grad_fn=<MmBackward0>)\n",
      "tensor([[-150.0000]], grad_fn=<MmBackward0>)\n",
      "tensor([[-150.0000]], grad_fn=<MmBackward0>)\n",
      "tensor([[-150.0000]], grad_fn=<MmBackward0>)\n"
     ]
    }
   ],
   "source": [
    "import torch\n",
    "import torch.nn as nn\n",
    "import numpy as np\n",
    "\n",
    "class SimpleFFNet(nn.Module):\n",
    "    def __init__(self):\n",
    "        super(SimpleFFNet, self).__init__()\n",
    "        self.layer1 = nn.Linear(1, 1, bias=False)\n",
    "        self.layer2 = nn.Linear(1, 1, bias=True)\n",
    "        self.layer3 = nn.Linear(1, 1, bias=False)\n",
    "\n",
    "    def forward(self, x):\n",
    "        x = self.layer1(x)\n",
    "        x = self.layer2(x)\n",
    "        x = self.layer3(x)\n",
    "        return x\n",
    "\n",
    "# Initialize the model, loss function, and optimizer\n",
    "model = SimpleFFNet()\n",
    "criterion = nn.MSELoss()\n",
    "optimizer = torch.optim.SGD(model.parameters(), lr=0.0001)\n",
    "\n",
    "# Example input and target output\n",
    "x = torch.tensor([[5.]], requires_grad=True)  # Your input\n",
    "target = torch.tensor([[-160.]])  # Assuming you want the model to learn to output 10 for input 10\n",
    "\n",
    "# Training loop\n",
    "for epoch in range(50):  \n",
    "    optimizer.zero_grad()  \n",
    "    output = model(x)  \n",
    "    print(output)\n",
    "    loss = criterion(output, target)  \n",
    "    loss.backward()  \n",
    "    optimizer.step()  \n",
    "\n",
    "    if epoch % 5 == 0:  \n",
    "        print(f'Epoch {epoch}, Loss: {loss.item()}')\n"
   ]
  },
  {
   "cell_type": "code",
   "execution_count": 143,
   "id": "591584f9",
   "metadata": {
    "scrolled": true
   },
   "outputs": [
    {
     "data": {
      "text/plain": [
       "(Parameter containing:\n",
       " tensor([[3.0623]], requires_grad=True),\n",
       " None)"
      ]
     },
     "execution_count": 143,
     "metadata": {},
     "output_type": "execute_result"
    }
   ],
   "source": [
    "model.layer1.weight, model.layer1.bias"
   ]
  },
  {
   "cell_type": "code",
   "execution_count": 144,
   "id": "408c1b35",
   "metadata": {},
   "outputs": [
    {
     "data": {
      "text/plain": [
       "(Parameter containing:\n",
       " tensor([[-3.1154]], requires_grad=True),\n",
       " Parameter containing:\n",
       " tensor([-0.5441], requires_grad=True))"
      ]
     },
     "execution_count": 144,
     "metadata": {},
     "output_type": "execute_result"
    }
   ],
   "source": [
    "model.layer2.weight, model.layer2.bias"
   ]
  },
  {
   "cell_type": "code",
   "execution_count": 145,
   "id": "bc7e0668",
   "metadata": {},
   "outputs": [
    {
     "data": {
      "text/plain": [
       "(Parameter containing:\n",
       " tensor([[3.1091]], requires_grad=True),\n",
       " None)"
      ]
     },
     "execution_count": 145,
     "metadata": {},
     "output_type": "execute_result"
    }
   ],
   "source": [
    "model.layer3.weight, model.layer3.bias"
   ]
  },
  {
   "cell_type": "code",
   "execution_count": null,
   "id": "94b6357a",
   "metadata": {},
   "outputs": [],
   "source": []
  }
 ],
 "metadata": {
  "kernelspec": {
   "display_name": "Python 3 (ipykernel)",
   "language": "python",
   "name": "python3"
  },
  "language_info": {
   "codemirror_mode": {
    "name": "ipython",
    "version": 3
   },
   "file_extension": ".py",
   "mimetype": "text/x-python",
   "name": "python",
   "nbconvert_exporter": "python",
   "pygments_lexer": "ipython3",
   "version": "3.11.5"
  }
 },
 "nbformat": 4,
 "nbformat_minor": 5
}
