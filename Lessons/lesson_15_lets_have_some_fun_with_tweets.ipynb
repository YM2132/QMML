{
 "cells": [
  {
   "cell_type": "code",
   "execution_count": 3,
   "outputs": [
    {
     "name": "stdout",
     "output_type": "stream",
     "text": [
      "Warning: Your Kaggle API key is readable by other users on this system! To fix this, you can run 'chmod 600 /Users/moose/.kaggle/kaggle.json'\r\n",
      "Downloading nlp-getting-started.zip to /Users/moose/Documents/PyCharm_Projects/Karpathy_NN_course/Lessons\r\n",
      "100%|████████████████████████████████████████| 593k/593k [00:00<00:00, 1.74MB/s]\r\n",
      "100%|████████████████████████████████████████| 593k/593k [00:00<00:00, 1.73MB/s]\r\n"
     ]
    }
   ],
   "source": [
    "!kaggle competitions download -c nlp-getting-started"
   ],
   "metadata": {
    "collapsed": false,
    "ExecuteTime": {
     "end_time": "2024-03-25T10:24:50.059735Z",
     "start_time": "2024-03-25T10:24:48.495174Z"
    }
   },
   "id": "278700c7bc140db5"
  },
  {
   "cell_type": "code",
   "execution_count": 1,
   "id": "initial_id",
   "metadata": {
    "collapsed": true,
    "ExecuteTime": {
     "end_time": "2024-03-25T10:22:32.368787Z",
     "start_time": "2024-03-25T10:22:24.423358Z"
    }
   },
   "outputs": [],
   "source": [
    "import torch\n",
    "import kaggle"
   ]
  },
  {
   "cell_type": "code",
   "execution_count": null,
   "outputs": [],
   "source": [],
   "metadata": {
    "collapsed": false
   },
   "id": "4659c325026f46e5"
  }
 ],
 "metadata": {
  "kernelspec": {
   "display_name": "Python 3",
   "language": "python",
   "name": "python3"
  },
  "language_info": {
   "codemirror_mode": {
    "name": "ipython",
    "version": 2
   },
   "file_extension": ".py",
   "mimetype": "text/x-python",
   "name": "python",
   "nbconvert_exporter": "python",
   "pygments_lexer": "ipython2",
   "version": "2.7.6"
  }
 },
 "nbformat": 4,
 "nbformat_minor": 5
}
