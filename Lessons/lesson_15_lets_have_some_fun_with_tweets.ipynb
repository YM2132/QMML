{
 "cells": [
  {
   "cell_type": "code",
   "execution_count": null,
   "id": "9c5496f07da1d007",
   "metadata": {},
   "outputs": [],
   "source": [
    "!kaggle competitions download -c nlp-getting-started"
   ]
  },
  {
   "cell_type": "markdown",
   "id": "3b4fcaf626bec160",
   "metadata": {},
   "source": [
    "## Kaggle - Real or Not? NLP with Disaster Tweets\n",
    "\n",
    "Today we will be working with some data from Kaggle. The goal is to predict whether a tweet is about a real disaster or not. \n",
    "\n",
    "The data has been split to a train test set, but there are some important steps we must take to make use of it. Firstly, we will need to tokenize the data and then train a model on it. I leave the model choise up to you."
   ]
  },
  {
   "cell_type": "code",
   "execution_count": null,
   "id": "1c0ee4aa1fe5b8db",
   "metadata": {
    "ExecuteTime": {
     "end_time": "2024-03-25T11:19:01.601933Z",
     "start_time": "2024-03-25T11:18:58.893733Z"
    }
   },
   "outputs": [],
   "source": [
    "!pip install transformers datasets evaluate accelerate"
   ]
  },
  {
   "cell_type": "code",
   "execution_count": 2,
   "id": "4659c325026f46e5",
   "metadata": {
    "ExecuteTime": {
     "start_time": "2024-03-25T11:19:04.173019Z"
    },
    "is_executing": true
   },
   "outputs": [],
   "source": [
    "from transformers import AutoTokenizer\n",
    "from datasets import load_dataset\n",
    "from transformers import DataCollatorWithPadding\n",
    "import evaluate"
   ]
  },
  {
   "cell_type": "code",
   "execution_count": 1,
   "id": "1ada206d2b444042",
   "metadata": {
    "ExecuteTime": {
     "end_time": "2024-03-25T11:16:59.579319Z",
     "start_time": "2024-03-25T11:16:59.285352Z"
    }
   },
   "outputs": [
    {
     "ename": "NameError",
     "evalue": "name 'load_dataset' is not defined",
     "output_type": "error",
     "traceback": [
      "\u001B[0;31m---------------------------------------------------------------------------\u001B[0m",
      "\u001B[0;31mNameError\u001B[0m                                 Traceback (most recent call last)",
      "Cell \u001B[0;32mIn[1], line 1\u001B[0m\n\u001B[0;32m----> 1\u001B[0m dataset \u001B[38;5;241m=\u001B[39m load_dataset(\u001B[38;5;124m\"\u001B[39m\u001B[38;5;124m../nlp-getting-started\u001B[39m\u001B[38;5;124m\"\u001B[39m)\n",
      "\u001B[0;31mNameError\u001B[0m: name 'load_dataset' is not defined"
     ]
    }
   ],
   "source": [
    "dataset = load_dataset(\"../nlp-getting-started\")"
   ]
  },
  {
   "cell_type": "code",
   "execution_count": 12,
   "id": "92386b8a6573274d",
   "metadata": {
    "ExecuteTime": {
     "end_time": "2024-03-25T11:01:13.259852Z",
     "start_time": "2024-03-25T11:01:13.249075Z"
    }
   },
   "outputs": [
    {
     "data": {
      "text/plain": [
       "{'id': 1,\n",
       " 'keyword': None,\n",
       " 'location': None,\n",
       " 'text': 'Our Deeds are the Reason of this #earthquake May ALLAH Forgive us all',\n",
       " 'target': 1}"
      ]
     },
     "execution_count": 12,
     "metadata": {},
     "output_type": "execute_result"
    }
   ],
   "source": [
    "dataset['train'][0]"
   ]
  },
  {
   "cell_type": "code",
   "execution_count": 13,
   "id": "2c7e2536e549b2c0",
   "metadata": {
    "ExecuteTime": {
     "end_time": "2024-03-25T11:01:32.096575Z",
     "start_time": "2024-03-25T11:01:30.819034Z"
    }
   },
   "outputs": [
    {
     "data": {
      "application/vnd.jupyter.widget-view+json": {
       "model_id": "e6b1cc245e31440a8b270246e4950223",
       "version_major": 2,
       "version_minor": 0
      },
      "text/plain": [
       "tokenizer_config.json:   0%|          | 0.00/28.0 [00:00<?, ?B/s]"
      ]
     },
     "metadata": {},
     "output_type": "display_data"
    },
    {
     "data": {
      "application/vnd.jupyter.widget-view+json": {
       "model_id": "bb95a0a73da74dc58bffbb0487e57beb",
       "version_major": 2,
       "version_minor": 0
      },
      "text/plain": [
       "config.json:   0%|          | 0.00/483 [00:00<?, ?B/s]"
      ]
     },
     "metadata": {},
     "output_type": "display_data"
    },
    {
     "data": {
      "application/vnd.jupyter.widget-view+json": {
       "model_id": "f181e9bc4e5c47cb8795a6941a347bb0",
       "version_major": 2,
       "version_minor": 0
      },
      "text/plain": [
       "vocab.txt:   0%|          | 0.00/232k [00:00<?, ?B/s]"
      ]
     },
     "metadata": {},
     "output_type": "display_data"
    },
    {
     "data": {
      "application/vnd.jupyter.widget-view+json": {
       "model_id": "102ad1a53e5d42bcb9466319c5772d6c",
       "version_major": 2,
       "version_minor": 0
      },
      "text/plain": [
       "tokenizer.json:   0%|          | 0.00/466k [00:00<?, ?B/s]"
      ]
     },
     "metadata": {},
     "output_type": "display_data"
    }
   ],
   "source": [
    "tokenizer = AutoTokenizer.from_pretrained(\"distilbert/distilbert-base-uncased\")"
   ]
  },
  {
   "cell_type": "code",
   "execution_count": 14,
   "id": "35e87b6f35fa5932",
   "metadata": {
    "ExecuteTime": {
     "end_time": "2024-03-25T11:01:42.753888Z",
     "start_time": "2024-03-25T11:01:42.747895Z"
    }
   },
   "outputs": [],
   "source": [
    "def preprocess_function(examples):\n",
    "    return tokenizer(examples[\"text\"], truncation=True)"
   ]
  },
  {
   "cell_type": "code",
   "execution_count": 15,
   "id": "15ddd41591a3d724",
   "metadata": {
    "ExecuteTime": {
     "end_time": "2024-03-25T11:01:55.506558Z",
     "start_time": "2024-03-25T11:01:55.132658Z"
    }
   },
   "outputs": [
    {
     "data": {
      "application/vnd.jupyter.widget-view+json": {
       "model_id": "b5f0fb1c8afd4a0591286a6db51bf78c",
       "version_major": 2,
       "version_minor": 0
      },
      "text/plain": [
       "Map:   0%|          | 0/7613 [00:00<?, ? examples/s]"
      ]
     },
     "metadata": {},
     "output_type": "display_data"
    },
    {
     "name": "stderr",
     "output_type": "stream",
     "text": [
      "Asking to truncate to max_length but no maximum length is provided and the model has no predefined maximum length. Default to no truncation.\n"
     ]
    },
    {
     "data": {
      "application/vnd.jupyter.widget-view+json": {
       "model_id": "d80320a5f03d47a8bc3e4dea518f3268",
       "version_major": 2,
       "version_minor": 0
      },
      "text/plain": [
       "Map:   0%|          | 0/3263 [00:00<?, ? examples/s]"
      ]
     },
     "metadata": {},
     "output_type": "display_data"
    }
   ],
   "source": [
    "tokenized_tweets = dataset.map(preprocess_function, batched=True)"
   ]
  },
  {
   "cell_type": "code",
   "execution_count": 16,
   "id": "6d4e9cb9c8613581",
   "metadata": {
    "ExecuteTime": {
     "end_time": "2024-03-25T11:01:58.851804Z",
     "start_time": "2024-03-25T11:01:58.839074Z"
    }
   },
   "outputs": [
    {
     "data": {
      "text/plain": [
       "{'id': 1,\n",
       " 'keyword': None,\n",
       " 'location': None,\n",
       " 'text': 'Our Deeds are the Reason of this #earthquake May ALLAH Forgive us all',\n",
       " 'target': 1,\n",
       " 'input_ids': [101,\n",
       "  2256,\n",
       "  15616,\n",
       "  2024,\n",
       "  1996,\n",
       "  3114,\n",
       "  1997,\n",
       "  2023,\n",
       "  1001,\n",
       "  8372,\n",
       "  2089,\n",
       "  16455,\n",
       "  9641,\n",
       "  2149,\n",
       "  2035,\n",
       "  102],\n",
       " 'attention_mask': [1, 1, 1, 1, 1, 1, 1, 1, 1, 1, 1, 1, 1, 1, 1, 1]}"
      ]
     },
     "execution_count": 16,
     "metadata": {},
     "output_type": "execute_result"
    }
   ],
   "source": [
    "tokenized_tweets['train'][0]"
   ]
  },
  {
   "cell_type": "code",
   "execution_count": null,
   "id": "bc8de2a6e32136b6",
   "metadata": {
    "ExecuteTime": {
     "end_time": "2024-03-25T11:02:21.977696Z",
     "start_time": "2024-03-25T11:02:21.973967Z"
    }
   },
   "outputs": [],
   "source": [
    "data_collator = DataCollatorWithPadding(tokenizer=tokenizer)"
   ]
  },
  {
   "cell_type": "code",
   "execution_count": null,
   "id": "820d0d2e0b58316d",
   "metadata": {},
   "outputs": [],
   "source": []
  }
 ],
 "metadata": {
  "kernelspec": {
   "display_name": "venv-metal",
   "language": "python",
   "name": "venv-metal"
  },
  "language_info": {
   "codemirror_mode": {
    "name": "ipython",
    "version": 3
   },
   "file_extension": ".py",
   "mimetype": "text/x-python",
   "name": "python",
   "nbconvert_exporter": "python",
   "pygments_lexer": "ipython3",
   "version": "3.11.5"
  }
 },
 "nbformat": 4,
 "nbformat_minor": 5
}
